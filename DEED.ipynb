{
 "cells": [
  {
   "cell_type": "markdown",
   "metadata": {
    "colab_type": "text",
    "id": "JyG45Qk3qQLS",
    "pycharm": {}
   },
   "source": [
    "# Dynamic Economic Emissions Dispatch (i.e. DEED)\n",
    "This notebook details the basics of DEED via openai gym."
   ]
  },
  {
   "cell_type": "markdown",
   "metadata": {
    "colab_type": "text",
    "id": "M6yJLx_cRpH1",
    "pycharm": {}
   },
   "source": [
    "## Cost Function Inputs\n",
    "\n",
    "$P_i^m\\>$power output of ith unit at time m\n",
    "\n",
    "$P^{min}_i ; P^{max}_i\\>$    lower and upper generation limits for $i^{th}$ unit\n",
    "\n",
    "$P_{Dm}\\>$ load demand at time $t$\n",
    "\n",
    "$P_{Lm}\\>$ transmission line losses at time $m$\n",
    "\n",
    "$a_i,b_i, c_i,d_i, ei\\>$ cost coefficients of $i^{th}$ unit\n",
    "\n",
    "$\\alpha_i,\\beta_i, \\gamma_i,\\eta_i,\\delta_i\\>$ emission coefficients of $i^{th}$ unit\n",
    "\n",
    "$UR_i,DR_i\\>$ ramp-up and ramp-down rate limits of ith unit\n",
    "\n",
    "$N\\>$ number of generating units\n",
    "\n",
    "$M\\>$ number of hours in the time horizon"
   ]
  },
  {
   "cell_type": "code",
   "execution_count": 1,
   "metadata": {
    "colab": {},
    "colab_type": "code",
    "id": "AK5jryqJZkjT",
    "pycharm": {
     "is_executing": false
    }
   },
   "outputs": [
    {
     "name": "stderr",
     "output_type": "stream",
     "text": [
      "'wget' is not recognized as an internal or external command,\n",
      "operable program or batch file.\n",
      "'unzip' is not recognized as an internal or external command,\n",
      "operable program or batch file.\n",
      "The system cannot find the path specified.\n",
      "'chpasswd' is not recognized as an internal or external command,\n",
      "operable program or batch file.\n",
      "The syntax of the command is incorrect.\n",
      "The system cannot find the path specified.\n",
      "The system cannot find the path specified.\n",
      "The system cannot find the path specified.\n",
      "The system cannot find the path specified.\n",
      "'python3' is not recognized as an internal or external command,\n",
      "operable program or batch file.\n"
     ]
    },
    {
     "name": "stdout",
     "output_type": "stream",
     "text": [
      "Copy authtoken from https://dashboard.ngrok.com/auth\n",
      "Root password: wC81wbMKVSnvw6fsNHGm\n"
     ]
    }
   ],
   "source": [
    "\n",
    "# Generate root password\n",
    "import random, string\n",
    "password = ''.join(random.choice(string.ascii_letters + string.digits) for i in range(20))\n",
    "\n",
    "#Download ngrok\n",
    "! wget -q -c -nc https://bin.equinox.io/c/4VmDzA7iaHb/ngrok-stable-linux-amd64.zip\n",
    "! unzip -qq -n ngrok-stable-linux-amd64.zip\n",
    "#Setup sshd\n",
    "! apt-get install -qq -o=Dpkg::Use-Pty=0 openssh-server pwgen > /dev/null\n",
    "#Set root password\n",
    "! echo root:$password | chpasswd\n",
    "! mkdir -p /var/run/sshd\n",
    "! echo \"PermitRootLogin yes\" >> /etc/ssh/sshd_config\n",
    "! echo \"PasswordAuthentication yes\" >> /etc/ssh/sshd_config\n",
    "! echo \"LD_LIBRARY_PATH=/usr/lib64-nvidia\" >> /root/.bashrc\n",
    "! echo \"export LD_LIBRARY_PATH\" >> /root/.bashrc\n",
    "\n",
    "#Run sshd\n",
    "get_ipython().system_raw('/usr/sbin/sshd -D &')\n",
    "\n",
    "#Ask token\n",
    "print(\"Copy authtoken from https://dashboard.ngrok.com/auth\")\n",
    "import getpass\n",
    "authtoken = getpass.getpass()\n",
    "\n",
    "#Create tunnel\n",
    "get_ipython().system_raw('./ngrok authtoken $authtoken && ./ngrok tcp 22 &')\n",
    "#Print root password\n",
    "print(\"Root password: {}\".format(password))\n",
    "#Get public address\n",
    "! curl -s http://localhost:4040/api/tunnels | python3 -c \\\n",
    "    \"import sys, json; print(json.load(sys.stdin)['tunnels'][0]['public_url'])\""
   ]
  },
  {
   "cell_type": "markdown",
   "metadata": {
    "colab_type": "text",
    "id": "G7UnYLLzLY5X",
    "pycharm": {}
   },
   "source": [
    "**Create Environment**\n",
    "\n",
    "Environments all descend from the Env base class. You can view a list of all environments via:\n",
    "\n",
    "```\n",
    "from gym import envs\n",
    "print(envs.registry.all())\n",
    "```\n",
    "\n",
    "Important environment functions/properties:\n",
    "\n",
    "**step**: Returns info regarding what our actions are doing to the \n",
    "\n",
    "* environment at each step. The return values:\n",
    "* observation (object)\n",
    "* reward (float)\n",
    "* done (boolean)\n",
    "* info (dict)\n",
    "**reset**: returns an initial observation.\n",
    "**Space objects**: two objects (below) that describe the valid actions and observations.\n",
    "\n",
    "* action_space [returns Discrete(2) for cartpole]. Example usage of Discrete: \n",
    "\n",
    "```\n",
    "python from gym import spaces space = spaces.Discrete(8) # Set with 8 elements {0, 1, 2, ..., 7} x = space.sample() assert space.contains(x) assert space.n == 8\n",
    "```\n",
    "\n",
    "* observation_space [returns Box(4) for cartpole]\n"
   ]
  },
  {
   "cell_type": "code",
   "execution_count": 2,
   "metadata": {
    "colab": {},
    "colab_type": "code",
    "id": "RDtp4VJiLUDd",
    "pycharm": {
     "is_executing": false
    }
   },
   "outputs": [],
   "source": [
    "import gym\n",
    "from gym import error, spaces, utils\n",
    "from gym.utils import seeding\n",
    "import pandas as pd # import pandas to use pandas DataFrame\n",
    "import numpy as np\n",
    "from math import sin\n",
    "from math import exp\n",
    "\n",
    "class Generators(gym.Env):\n",
    "  'Class for Generators environment'\n",
    "  metadata = {'render.modes': ['human']}\n",
    "    \n",
    "  # Set constants \n",
    "  N = 10 # N = number of generators\n",
    "  M = 24 # M = number of hours in day\n",
    "  E = 10 # Emissions scaling factor\n",
    "  \n",
    "  # DataFrame created whith generator data in the form of list of tuples \n",
    "  generator_characteristics = pd.DataFrame([(150,470, 786.7988,38.5397,0.1524,450,0.041,103.3908,-2.4444,0.0312,0.5035,0.0207,80,80),\n",
    "                                            (135,470, 451.3251,46.1591,0.1058,600,0.036,103.3908,-2.4444,0.0312,0.5035,0.0207,80,80),\n",
    "                                            ( 73,340,1049.9977,40.3965,0.0280,320,0.028,300.3910,-4.0695,0.0509,0.4968,0.0202,80,80),\n",
    "                                            ( 60,300,1243.5311,38.3055,0.0354,260,0.052,300.3910,-4.0695,0.0509,0.4968,0.0202,50,50),\n",
    "                                            ( 73,243,1658.5696,36.3278,0.0211,280,0.063,320.0006,-3.8132,0.0344,0.4972,0.0200,50,50),\n",
    "                                            ( 57,160,1356.6592,38.2704,0.0179,310,0.048,320.0006,-3.8132,0.0344,0.4972,0.0200,50,50),\n",
    "                                            ( 20,130,1450.7045,36.5104,0.0121,300,0.086,330.0056,-3.9023,0.0465,0.5163,0.0214,30,30),\n",
    "                                            ( 47,120,1450.7045,36.5104,0.0121,340,0.082,330.0056,-3.9023,0.0465,0.5163,0.0214,30,30),\n",
    "                                            ( 20, 80,1455.6056,39.5804,0.1090,270,0.098,350.0056,-3.9524,0.0465,0.5475,0.0234,30,30),\n",
    "                                            ( 10, 55,1469.4026,40.5407,0.1295,380,0.094,360.0012,-3.9864,0.0470,0.5475,0.0234,30,30)],\n",
    "                                            columns=[\"p_min_i\",\"p_max_i\",\"a_i\",\"b_i\",\"c_i\",\"d_i\",\"e_i\",\"alpha_i\",\"beta_i\",\"gamma_i\",\"eta_i\",\"delta_i\",\"ur_i\",\"dr_i\"],\n",
    "                                            index=[\"unit1\",\"unit2\",\"unit3\",\"unit4\",\"unit5\",\"unit6\",\"unit7\",\"unit8\",\"unit9\",\"unit10\"])\n",
    "    \n",
    "  #B is the matrix of transmission line loss coefficients\n",
    "  # data in the form of list of tuples \n",
    "  B = pd.DataFrame([(0.000049,0.000014,0.000015,0.000015,0.000016,0.000017,0.000017,0.000018,0.000019,0.000020),\n",
    "                    (0.000014,0.000045,0.000016,0.000016,0.000017,0.000015,0.000015,0.000016,0.000018,0.000018),\n",
    "                    (0.000015,0.000016,0.000039,0.000010,0.000012,0.000012,0.000014,0.000014,0.000016,0.000016),\n",
    "                    (0.000015,0.000016,0.000010,0.000040,0.000014,0.000010,0.000011,0.000012,0.000014,0.000015),\n",
    "                    (0.000016,0.000017,0.000012,0.000014,0.000035,0.000011,0.000013,0.000013,0.000015,0.000016),\n",
    "                    (0.000017,0.000015,0.000012,0.000010,0.000011,0.000036,0.000012,0.000012,0.000014,0.000015),\n",
    "                    (0.000017,0.000015,0.000014,0.000011,0.000013,0.000012,0.000038,0.000016,0.000016,0.000018),\n",
    "                    (0.000018,0.000016,0.000014,0.000012,0.000013,0.000012,0.000016,0.000040,0.000015,0.000016),\n",
    "                    (0.000019,0.000018,0.000016,0.000014,0.000015,0.000014,0.000016,0.000015,0.000042,0.000019),\n",
    "                    (0.000020,0.000018,0.000016,0.000015,0.000016,0.000015,0.000018,0.000016,0.000019,0.000044)])\n",
    "    \n",
    "  #self.state = np.array([0.0,74.0,148.0,148.0,74.0,148.0,74.0,74.0,148.0,98.0,84.0,44.0,-78.0,-148.0,-148.0,-222.0,-74.0,148.0,148.0,196.0,-48.0,-296.0,-296.0,-148.0])\n",
    "  # data in the form of list of tuples \n",
    "  hour_power_demand = pd.DataFrame([(1036),(1110),(1258),(1406),(1480),(1628),(1702),(1776),(1924),(2022),(2106),(2150),(2072),(1924),(1776),(1554),(1480),(1628),(1776),(1972),(1924),(1628),(1332),(1184)],\n",
    "                                   columns=[\"p_d\"],\n",
    "                                   index=[\"hour1\",\"hour2\",\"hour3\",\"hour4\",\"hour5\",\"hour6\",\"hour7\",\"hour8\",\"hour9\",\"hour10\",\"hour11\",\"hour12\",\"hour13\",\"hour14\",\"hour15\",\"hour16\",\"hour17\",\"hour18\",\"hour19\",\"hour20\",\"hour21\",\"hour22\",\"hour23\",\"hour24\"])\n",
    "\n",
    "  def __init__(self):\n",
    "    print(\"Generators Environment Initialised\")\n",
    "    #self.state = hour_power_demand.diff()\n",
    "    self.state = []\n",
    "    self.active_unit = \"unit1\"\n",
    "    self.counter = 0\n",
    "    self.done = 0\n",
    "    self.add = [0, 0]\n",
    "    self.reward = 0\n",
    "    self.action_space = spaces.Discrete(101) # Set with 101 elements {0, 1, 2 ... 100}\n",
    "  \n",
    "  def show_unit_characteristics(self, unit):\n",
    "    print(\"Unit Name:\", unit)\n",
    "    print(self.generator_characteristics.loc[unit, :])\n",
    "  \n",
    "  def cost_function_local(self, unit):\n",
    "    a_n = self.generator_characteristics.loc[unit, \"a_i\"]\n",
    "    b_n = self.generator_characteristics.loc[unit, \"b_i\"]\n",
    "    c_n = self.generator_characteristics.loc[unit, \"c_i\"]\n",
    "    d_n = self.generator_characteristics.loc[unit, \"d_i\"]\n",
    "    e_n = self.generator_characteristics.loc[unit, \"e_i\"]\n",
    "    P_min_n = self.generator_characteristics.loc[unit, \"p_min_i\"]\n",
    "    P_n_m = np.random.uniform(low=self.generator_characteristics.loc[unit, \"p_min_i\"], high=self.generator_characteristics.loc[unit, \"p_max_i\"])\n",
    "    return round(a_n + (b_n * P_n_m) + c_n*(P_n_m**2) + abs(d_n * sin(e_n * (P_min_n - P_n_m))),2)\n",
    "  \n",
    "  def cost_function_global(self):\n",
    "    global_cost = 0\n",
    "    for i, row in self.generator_characteristics.iterrows():\n",
    "      global_cost += self.cost_function_local(i)\n",
    "    return round(global_cost,2)\n",
    "  \n",
    "  def emissions_function_local(self, unit):\n",
    "    alpha_n = self.generator_characteristics.loc[unit, \"alpha_i\"]\n",
    "    beta_n = self.generator_characteristics.loc[unit, \"beta_i\"]\n",
    "    gamma_n = self.generator_characteristics.loc[unit, \"gamma_i\"]\n",
    "    eta_n = self.generator_characteristics.loc[unit, \"eta_i\"]\n",
    "    delta_n = self.generator_characteristics.loc[unit, \"delta_i\"]\n",
    "    P_min_n = self.generator_characteristics.loc[unit, \"p_min_i\"]\n",
    "    P_n_m = np.random.uniform(low=self.generator_characteristics.loc[unit, \"p_min_i\"], high=self.generator_characteristics.loc[unit, \"p_max_i\"])\n",
    "    return self.E * (alpha_n + (beta_n * P_n_m) + gamma_n * (P_n_m**2) + eta_n * exp(delta_n * P_n_m))\n",
    "  \n",
    "  def emissions_function_global(self):\n",
    "    global_emissions = 0\n",
    "    for i, row in self.generator_characteristics.iterrows():\n",
    "      global_emissions += self.emissions_function_local(i)\n",
    "    return global_emissions\n",
    "     \n",
    "    # Show full dataFrame\n",
    "    #print(generator_characteristics)\n",
    "\n",
    "    # select a column by name (i.e. label)\n",
    "    #print(generator_characteristics.loc[:, \"b_i\"])\n",
    "\n",
    "    # Get numpy array instead of pandas series\n",
    "    #print(generator_characteristics.loc[:, \"b_i\"]).values\n",
    "\n",
    "    # Select a unit by label\n",
    "    #print(generator_characteristics.loc[\"unit3\", :])\n",
    "\n",
    "    # Select rows based on cloumn value\n",
    "    #print(generator_characteristics.loc[generator_characteristics.loc[:, \"dr_i\"] <= 50, :])\n",
    "\n",
    "    # Select a specific unit value by label\n",
    "    #print(generator_characteristics.loc[\"unit3\", \"d_i\"])\n",
    "    # Show full dataFrame\n",
    "\n",
    "    #--------------------------------------------------------------------------------\n",
    "\n",
    "    # Select a specific unit value by its index\n",
    "    #print(B.iloc[0,0])\n",
    "    \n",
    "    # Show full dataFrame\n",
    "    #print(hour_power_demand)\n",
    "\n",
    "    #ax = hour_power_demand.plot(title=\"HOURLY POWER DEMAND\", kind=\"bar\", color='red')\n",
    "\n",
    "    #ax.set_xlabel(\"Hour\")\n",
    "    #ax.set_ylabel(\"MW\")\n",
    "\n",
    "  def step(self, action):\n",
    "    assert self.action_space.contains(action), \"%r (%s) invalid\"%(action, type(action))\n",
    "    P_n = self.generator_characteristics.loc[self.active_unit , \"p_min_i\"] + action * ((self.generator_characteristics.loc[self.active_unit , \"p_max_i\"] - self.generator_characteristics.loc[self.active_unit , \"p_min_i\"]) / 100)\n",
    "    print(P_n)\n",
    "    state = self.state\n",
    "    if self.done == 1:\n",
    "      print(\"Game Over\")\n",
    "      return [self.state, self.reward, self.done, self.add]\n",
    "    else:\n",
    "      print(\"Game in progress\")\n",
    "      return [self.state, self.reward, self.done, self.add]\n",
    "   \n",
    "  def render(self):\n",
    "    print(\"This is a render of the Generators Environment\")\n",
    "  \n",
    "  def reset(self):\n",
    "    print(\"Generators Environment Reset\")\n",
    "    #self.state = hour_power_demand.diff()\n",
    "    self.state = []\n",
    "    self.counter = 0\n",
    "    self.done = 0\n",
    "    self.add = [0, 0]\n",
    "    self.reward = 0\n",
    "    #space = spaces.Discrete(24) # Set with 8 elements {0, 1, 2, ..., 23}\n",
    "    #self.action_space = spaces.Tuple((spaces.Discrete(101)))\n",
    "\n",
    "# delete if it's registered\n",
    "env_name = 'Generators-v0'\n",
    "if env_name in gym.envs.registry.env_specs:\n",
    "    del gym.envs.registry.env_specs[env_name]\n",
    "\n",
    "# register the environment so we can play with it\n",
    "gym.register(\n",
    "    id=env_name,\n",
    "    entry_point=Generators\n",
    ")"
   ]
  },
  {
   "cell_type": "code",
   "execution_count": 3,
   "metadata": {
    "colab": {
     "base_uri": "https://localhost:8080/",
     "height": 102
    },
    "colab_type": "code",
    "id": "t4Qe6NhOzWgX",
    "outputId": "205ac8d9-e2f1-4c48-e680-2ce2438043ac",
    "pycharm": {
     "is_executing": false
    }
   },
   "outputs": [
    {
     "name": "stdout",
     "output_type": "stream",
     "text": [
      "Generators Environment Initialised\n",
      "Discrete(101)\n",
      "150.0\n",
      "Game in progress\n"
     ]
    },
    {
     "data": {
      "text/plain": [
       "[[], 0, 0, [0, 0]]"
      ]
     },
     "execution_count": 3,
     "metadata": {},
     "output_type": "execute_result"
    }
   ],
   "source": [
    "#!pip install cmake 'gym[atari]' scipy > /dev/null\n",
    "\n",
    "\n",
    "#!pip install -e git+https://github.com/apoddar573/Tic-Tac-Toe-Gym_Environment#egg=gym_tictac4\n",
    "#!pip install -e git+https://github.com/danielcregg/Generators-Gym_Environment\n",
    "  \n",
    "#import gym\n",
    "#os.chdir('/content/src/gym-generators')\n",
    "#import gym_generators\n",
    "#os.chdir('/content')\n",
    "\n",
    "#from gym_generators.envs.generators_env import Generators\n",
    "#from gym_tictac4.envs.tictac4_env import TicTac4\n",
    "#from gym_foo.envs.foo_env import FooEnv\n",
    "#import gym_generators\n",
    "\n",
    "#env = gym.make(\"Taxi-v2\").env\n",
    "#env = gym.make(\"gym_tictac4\").env\n",
    "env = gym.make(\"Generators-v0\")\n",
    "\n",
    "print(env.action_space)\n",
    "#print(env.action_space.n)\n",
    "#print(env.action_space.sample())\n",
    "\n",
    "#env.reset()\n",
    "\n",
    "env.step(0)\n",
    "\n",
    "\n",
    "\n",
    "\n",
    "#env.show_unit_characteristics(\"unit5\")\n",
    "\n",
    "#print(env.cost_function_local(\"unit5\"))\n",
    "\n",
    "#print(env.cost_function_global())\n",
    "#print(env.emissions_function_local(\"unit1\"))\n",
    "#print(env.emissions_function_global())"
   ]
  },
  {
   "cell_type": "code",
   "execution_count": 0,
   "metadata": {
    "colab": {},
    "colab_type": "code",
    "id": "awMLDqtmlcRX",
    "pycharm": {}
   },
   "outputs": [],
   "source": [
    "#os.chdir('/content')\n",
    "#!rm -rf gym-foo\n",
    "#!pip install cookiecutter\n",
    "#!cookiecutter https://github.com/nbren12/gym_environment_cookie\n",
    "#!pip install -e git+https://github.com/danielcregg/gym-generators#egg=gym-generators\n",
    "#!pip install -e git+https://github.com/apoddar573/Tic-Tac-Toe-Gym_Environment#egg=Tic-Tac-Toe-Gym_Environment\n",
    "#!pip install -e git+https://github.com/apoddar573/Tic-Tac-Toe-Gym_Environment/tree/master/gym-tictac4#egg=gym-tictac4\n",
    " #!pip install -e /content/src/tic-tac-toe-gym-environment/gym-tictac4\n",
    "#!pip install -e /content/gym-generators\n",
    "#import os\n",
    "#os.chdir('/content/gym-foo')\n",
    "#!pip install -e .\n",
    "#import gym_foo\n",
    "#gym_foo\n",
    "\n",
    "#import importlib.util\n",
    "#spec = importlib.util.spec_from_file_location(\"gym_foo\", \"/content/gym-foo\")\n",
    "#bar = importlib.util.module_from_spec(spec)\n",
    "#spec.loader.exec_module(bar)"
   ]
  },
  {
   "cell_type": "code",
   "execution_count": 0,
   "metadata": {
    "colab": {},
    "colab_type": "code",
    "id": "m3_hZz61GnM0",
    "pycharm": {}
   },
   "outputs": [],
   "source": [
    "# Generate auth tokens for Colab\n",
    "from google.colab import auth\n",
    "auth.authenticate_user()"
   ]
  },
  {
   "cell_type": "markdown",
   "metadata": {
    "colab_type": "text",
    "id": "8WmzMCma0TZK",
    "pycharm": {}
   },
   "source": [
    "initialise q table"
   ]
  },
  {
   "cell_type": "code",
   "execution_count": 0,
   "metadata": {
    "colab": {},
    "colab_type": "code",
    "id": "xuHSBfeS0SZG",
    "pycharm": {}
   },
   "outputs": [],
   "source": [
    "import numpy as np\n",
    "#q_table = np.zeros([env.observation_space.n, env.action_space.n])\n",
    "q_table = np.zeros([9, 9])"
   ]
  },
  {
   "cell_type": "markdown",
   "metadata": {
    "colab_type": "text",
    "id": "z9ln_amWx4e3",
    "pycharm": {}
   },
   "source": [
    "Agent code below:\n",
    "\n",
    "\n",
    "\n"
   ]
  },
  {
   "cell_type": "code",
   "execution_count": 0,
   "metadata": {
    "colab": {},
    "colab_type": "code",
    "id": "bcV3M-q9x1yi",
    "pycharm": {}
   },
   "outputs": [],
   "source": [
    "%%time\n",
    "\"\"\"Training the agent\"\"\"\n",
    "\n",
    "import random\n",
    "from IPython.display import clear_output\n",
    "\n",
    "# Hyperparameters\n",
    "alpha = 0.1\n",
    "gamma = 0.75\n",
    "epsilon = 0.05\n",
    "\n",
    "# For plotting metrics\n",
    "all_epochs = []\n",
    "all_penalties = []\n",
    "\n",
    "for i in range(1, 20001):\n",
    "    state = env.reset()\n",
    "\n",
    "    epochs, penalties, reward, = 0, 0, 0\n",
    "    done = False\n",
    "    \n",
    "    while not done:\n",
    "        if random.uniform(0, 1) < epsilon:\n",
    "            action = env.action_space.sample() # Explore action space\n",
    "        else:\n",
    "            action = np.argmax(q_table[state]) # Exploit learned values\n",
    "\n",
    "        next_state, reward, done, info = env.step(action) \n",
    "        \n",
    "        old_value = q_table[state, action]\n",
    "        next_max = np.max(q_table[next_state])\n",
    "        \n",
    "        new_value = (1 - alpha) * old_value + alpha * (reward + gamma * next_max)\n",
    "        q_table[state, action] = new_value\n",
    "\n",
    "        if reward == -10:\n",
    "            penalties += 1\n",
    "\n",
    "        state = next_state\n",
    "        epochs += 1\n",
    "        \n",
    "    if i % 100 == 0:\n",
    "        clear_output(wait=True)\n",
    "        print(f\"Episode: {i}\")\n",
    "\n",
    "print(\"Training finished.\\n\")"
   ]
  },
  {
   "cell_type": "markdown",
   "metadata": {
    "colab_type": "text",
    "id": "eP4KdHLjz7rT",
    "pycharm": {}
   },
   "source": [
    "Display single episode"
   ]
  },
  {
   "cell_type": "code",
   "execution_count": 0,
   "metadata": {
    "colab": {},
    "colab_type": "code",
    "id": "iY8seuXNz6ev",
    "pycharm": {}
   },
   "outputs": [],
   "source": [
    "\"\"\"Dispaly agent's performance after Q-learning\"\"\"\n",
    "from IPython.display import clear_output\n",
    "from time import sleep\n",
    "\n",
    "state = env.reset()\n",
    "epochs, penalties, reward = 0, 0, 0\n",
    "frames = [] # for animation\n",
    "\n",
    "\n",
    "def print_frames(frames):\n",
    "    for i, frame in enumerate(frames):\n",
    "        clear_output(wait=True)\n",
    "        print(frame['frame'].getvalue())\n",
    "        print(f\"Timestep: {i + 1}\")\n",
    "        print(f\"State: {frame['state']}\")\n",
    "        print(f\"Action: {frame['action']}\")\n",
    "        print(f\"Reward: {frame['reward']}\")\n",
    "        sleep(.5)\n",
    "    clear_output(wait=True)\n",
    "    print(frame['frame'].getvalue())\n",
    "    print(f\"Total Timesteps: {i}\")\n",
    "    print(\"Total Penalties: {}\".format(penalties)) \n",
    "\n",
    "\n",
    "\n",
    "done = False\n",
    "while not done:\n",
    "    action = np.argmax(q_table[state])\n",
    "    state, reward, done, info = env.step(action)\n",
    "\n",
    "    if reward == -10:\n",
    "        penalties += 1\n",
    "\n",
    "    # Put each rendered frame into dict for animation\n",
    "    frames.append({\n",
    "        'frame': env.render(mode='ansi'),\n",
    "        'state': state,\n",
    "        'action': action,\n",
    "        'reward': reward\n",
    "        }\n",
    "    )\n",
    "    \n",
    "    epochs += 1\n",
    "    \n",
    "print_frames(frames)"
   ]
  },
  {
   "cell_type": "markdown",
   "metadata": {
    "colab_type": "text",
    "id": "SsvK2kU7yrqn",
    "pycharm": {}
   },
   "source": [
    "**Evaluating the agent**\n",
    "\n",
    "---\n",
    "\n",
    "Q(state,action)←(1−α)Q(state,action)+α(reward+γmaxaQ(next state,all actions))\n"
   ]
  },
  {
   "cell_type": "code",
   "execution_count": 0,
   "metadata": {
    "colab": {},
    "colab_type": "code",
    "id": "ptQAVOSJysC3",
    "pycharm": {}
   },
   "outputs": [],
   "source": [
    "\"\"\"Evaluate agent's performance after Q-learning\"\"\"\n",
    "\n",
    "total_epochs, total_penalties = 0, 0\n",
    "episodes = 100\n",
    "\n",
    "for _ in range(episodes):\n",
    "    state = env.reset()\n",
    "    epochs, penalties, reward = 0, 0, 0\n",
    "    \n",
    "    done = False\n",
    "    \n",
    "    while not done:\n",
    "        action = np.argmax(q_table[state])\n",
    "        state, reward, done, info = env.step(action)\n",
    "\n",
    "        if reward == -10:\n",
    "            penalties += 1\n",
    "\n",
    "        epochs += 1\n",
    "\n",
    "    total_penalties += penalties\n",
    "    total_epochs += epochs\n",
    "\n",
    "print(f\"Results after {episodes} episodes:\")\n",
    "print(f\"Average timesteps per episode: {total_epochs / episodes}\")\n",
    "print(f\"Average penalties per episode: {total_penalties / episodes}\")"
   ]
  },
  {
   "cell_type": "markdown",
   "metadata": {
    "colab_type": "text",
    "id": "CUEhqkCH0A_V",
    "pycharm": {}
   },
   "source": [
    "Creating Generator Environment"
   ]
  },
  {
   "cell_type": "code",
   "execution_count": 0,
   "metadata": {
    "colab": {},
    "colab_type": "code",
    "id": "Ff-0b8A0we1V",
    "pycharm": {}
   },
   "outputs": [],
   "source": []
  },
  {
   "cell_type": "code",
   "execution_count": 0,
   "metadata": {
    "colab": {},
    "colab_type": "code",
    "id": "q--UOyF8ht9G",
    "pycharm": {}
   },
   "outputs": [],
   "source": [
    "from ipywidgets import interact, interactive, fixed, interact_manual\n",
    "import ipywidgets as widgets\n",
    "from IPython.display import display\n",
    "\n",
    "import numpy as np\n",
    "import matplotlib.pyplot as plt\n",
    "#%matplotlib inline\n",
    "\n",
    "import pandas as pd\n",
    "\n",
    "from scipy.optimize import curve_fit as cf"
   ]
  },
  {
   "cell_type": "code",
   "execution_count": 0,
   "metadata": {
    "colab": {},
    "colab_type": "code",
    "id": "WYxTk2PKRNhK",
    "pycharm": {}
   },
   "outputs": [],
   "source": [
    "#@title Cost Function Inputs\n",
    "#@markdown Input Fileds\n",
    "\n",
    "Pm = 102  #@param {type: \"number\"}\n",
    "\n",
    "\n",
    "\n",
    "\n",
    "no_type_checking = \"Test\"  #@param\n",
    "string_type = 'example'  #@param {type: \"string\"}\n",
    "slider_value = 100  #@param {type: \"slider\", min: 100, max: 200}\n",
    "number = 102  #@param {type: \"number\"}\n",
    "date = '2010-11-05'  #@param {type: \"date\"}\n",
    "pick_me = \"tuesday\"  #@param ['monday', 'tuesday', 'wednesday', 'thursday']\n",
    "select_or_input = \"apples\" #@param [\"apples\", \"bananas\", \"oranges\"] {allow-input: true}\n",
    "#@markdown ---\n"
   ]
  },
  {
   "cell_type": "code",
   "execution_count": 0,
   "metadata": {
    "colab": {},
    "colab_type": "code",
    "id": "AIl6Ugi-i1s_",
    "pycharm": {}
   },
   "outputs": [],
   "source": [
    "w = Pm + slider_value\n",
    "display(w)"
   ]
  },
  {
   "cell_type": "markdown",
   "metadata": {
    "colab_type": "text",
    "id": "rzOAQJ8gWqEE",
    "pycharm": {}
   },
   "source": [
    "##Cost Equation\n",
    "\n",
    "\\begin{equation*}\n",
    "\\left( \\sum_{k=1}^n a_k b_k \\right)^2 \\leq \\left( \\sum_{k=1}^n a_k^2 \\right) \\left( \\sum_{k=1}^n b_k^2 \\right)\n",
    "\\end{equation*}\n"
   ]
  },
  {
   "cell_type": "markdown",
   "metadata": {
    "colab_type": "text",
    "id": "aQ4v7LnX1Bzm",
    "pycharm": {}
   },
   "source": [
    "**Resources**\n",
    "\n",
    "[Reinforcement Q-Learning from Scratch in Python with OpenAI Gym](https://www.learndatasci.com/tutorials/reinforcement-q-learning-scratch-python-openai-gym/)"
   ]
  },
  {
   "cell_type": "code",
   "execution_count": 0,
   "metadata": {
    "colab": {},
    "colab_type": "code",
    "id": "xtdQeYNfcG29",
    "pycharm": {}
   },
   "outputs": [],
   "source": [
    "#@title Cost Function\n",
    "#@markdown Input Fileds\n",
    "\n",
    "\n",
    "\n",
    "Pim power output of ith unit at time m\n",
    "P min\n",
    "i ; P max\n",
    "i lower and upper generation limits for ith unit\n",
    "PDm load demand at time t\n",
    "PLm transmission line losses at time m\n",
    "ai,bi, ci,di, ei cost coefficients of ith unit\n",
    "ai,bi, ci,gi,di emission coefficients of ith unit\n",
    "URi,DRi ramp-up and ramp-down rate limits of ith unit\n",
    "N number of generating units\n",
    "M number of hours in the time horizon\n",
    "\n",
    "\n",
    "no_type_checking = \"Test\"  #@param\n",
    "string_type = 'example'  #@param {type: \"string\"}\n",
    "slider_value = 159  #@param {type: \"slider\", min: 100, max: 200}\n",
    "number = 102  #@param {type: \"number\"}\n",
    "date = '2010-11-05'  #@param {type: \"date\"}\n",
    "pick_me = \"tuesday\"  #@param ['monday', 'tuesday', 'wednesday', 'thursday']\n",
    "select_or_input = \"apples\" #@param [\"apples\", \"bananas\", \"oranges\"] {allow-input: true}\n",
    "#@markdown ---\n"
   ]
  },
  {
   "cell_type": "code",
   "execution_count": 0,
   "metadata": {
    "colab": {},
    "colab_type": "code",
    "id": "BF3rpxvlQcTy",
    "pycharm": {}
   },
   "outputs": [],
   "source": [
    "print(\"hello\")"
   ]
  },
  {
   "cell_type": "code",
   "execution_count": 0,
   "metadata": {
    "cellView": "both",
    "colab": {},
    "colab_type": "code",
    "id": "Pc-8f3aoPdJg",
    "pycharm": {}
   },
   "outputs": [],
   "source": [
    "#@title Example form fields\n",
    "#@markdown Forms support many types of fields.\n",
    "\n",
    "no_type_checking = \"Test\"  #@param\n",
    "string_type = 'example'  #@param {type: \"string\"}\n",
    "slider_value = 159  #@param {type: \"slider\", min: 100, max: 200}\n",
    "number = 102  #@param {type: \"number\"}\n",
    "date = '2010-11-05'  #@param {type: \"date\"}\n",
    "pick_me = \"tuesday\"  #@param ['monday', 'tuesday', 'wednesday', 'thursday']\n",
    "select_or_input = \"apples\" #@param [\"apples\", \"bananas\", \"oranges\"] {allow-input: true}\n",
    "#@markdown ---\n"
   ]
  },
  {
   "cell_type": "code",
   "execution_count": 0,
   "metadata": {
    "colab": {},
    "colab_type": "code",
    "id": "3WxBLwvCPd_m",
    "pycharm": {}
   },
   "outputs": [],
   "source": [
    "from IPython.display import display, Javascript\n",
    "from google.colab.output import eval_js\n",
    "from base64 import b64decode\n",
    "\n",
    "def take_photo(filename='photo.jpg', quality=0.8):\n",
    "  js = Javascript('''\n",
    "    async function takePhoto(quality) {\n",
    "      const div = document.createElement('div');\n",
    "      const capture = document.createElement('button');\n",
    "      capture.textContent = 'Capture';\n",
    "      div.appendChild(capture);\n",
    "\n",
    "      const video = document.createElement('video');\n",
    "      video.style.display = 'block';\n",
    "      const stream = await navigator.mediaDevices.getUserMedia({video: true});\n",
    "\n",
    "      document.body.appendChild(div);\n",
    "      div.appendChild(video);\n",
    "      video.srcObject = stream;\n",
    "      await video.play();\n",
    "\n",
    "      // Resize the output to fit the video element.\n",
    "      google.colab.output.setIframeHeight(document.documentElement.scrollHeight, true);\n",
    "\n",
    "      // Wait for Capture to be clicked.\n",
    "      await new Promise((resolve) => capture.onclick = resolve);\n",
    "\n",
    "      const canvas = document.createElement('canvas');\n",
    "      canvas.width = video.videoWidth;\n",
    "      canvas.height = video.videoHeight;\n",
    "      canvas.getContext('2d').drawImage(video, 0, 0);\n",
    "      stream.getVideoTracks()[0].stop();\n",
    "      div.remove();\n",
    "      return canvas.toDataURL('image/jpeg', quality);\n",
    "    }\n",
    "    ''')\n",
    "  display(js)\n",
    "  data = eval_js('takePhoto({})'.format(quality))\n",
    "  binary = b64decode(data.split(',')[1])\n",
    "  with open(filename, 'wb') as f:\n",
    "    f.write(binary)\n",
    "  return filename"
   ]
  },
  {
   "cell_type": "code",
   "execution_count": 0,
   "metadata": {
    "colab": {},
    "colab_type": "code",
    "id": "dPthohhXPeDu",
    "pycharm": {}
   },
   "outputs": [],
   "source": [
    "from IPython.display import Image\n",
    "try:\n",
    "  filename = take_photo()\n",
    "  print('Saved to {}'.format(filename))\n",
    "  \n",
    "  # Show the image which was just taken.\n",
    "  display(Image(filename))\n",
    "except Exception as err:\n",
    "  # Errors will be thrown if the user does not have a webcam or if they do not\n",
    "  # grant the page permission to access it.\n",
    "  print(str(err))"
   ]
  },
  {
   "cell_type": "markdown",
   "metadata": {
    "colab_type": "text",
    "id": "KR921S_OQSHG",
    "pycharm": {}
   },
   "source": [
    "## Code cells\n",
    "Below is a **code cell**. Once the toolbar button indicates CONNECTED, click in the cell to select it and execute the contents in the following ways:\n",
    "\n",
    "* Click the **Play icon** in the left gutter of the cell;\n",
    "* Type **Cmd/Ctrl+Enter** to run the cell in place;\n",
    "* Type **Shift+Enter** to run the cell and move focus to the next cell (adding one if none exists); or\n",
    "* Type **Alt+Enter** to run the cell and insert a new code cell immediately below it.\n",
    "\n",
    "There are additional options for running some or all cells in the **Runtime** menu.\n"
   ]
  },
  {
   "cell_type": "code",
   "execution_count": 0,
   "metadata": {
    "cellView": "both",
    "colab": {},
    "colab_type": "code",
    "id": "WUtu4316QSHL",
    "pycharm": {}
   },
   "outputs": [],
   "source": [
    "a = 10\n",
    "a"
   ]
  },
  {
   "cell_type": "markdown",
   "metadata": {
    "colab_type": "text",
    "id": "Id6tDF1HQSHD",
    "pycharm": {}
   },
   "source": [
    "## Text cells\n",
    "This is a **text cell**. You can **double-click** to edit this cell. Text cells\n",
    "use markdown syntax. To learn more, see our [markdown\n",
    "guide](/notebooks/markdown_guide.ipynb).\n",
    "\n",
    "You can also add math to text cells using [LaTeX](http://www.latex-project.org/)\n",
    "to be rendered by [MathJax](https://www.mathjax.org). Just place the statement\n",
    "within a pair of **\\$** signs. For example `$\\sqrt{3x-1}+(1+x)^2$` becomes\n",
    "$\\sqrt{3x-1}+(1+x)^2.$\n"
   ]
  },
  {
   "cell_type": "markdown",
   "metadata": {
    "colab_type": "text",
    "id": "7bqjkGKwQSHW",
    "pycharm": {}
   },
   "source": [
    "## Adding and moving cells\n",
    "You can add new cells by using the **+ CODE** and **+ TEXT** buttons that show when you hover between cells. These buttons are also in the toolbar above the notebook where they can be used to add a cell below the currently selected cell.\n",
    "\n",
    "You can move a cell by selecting it and clicking **Cell Up** or **Cell Down** in the top toolbar. \n",
    "\n",
    "Consecutive cells can be selected by \"lasso selection\" by dragging from outside one cell and through the group.  Non-adjacent cells can be selected concurrently by clicking one and then holding down Ctrl while clicking another.  Similarly, using Shift instead of Ctrl will select all intermediate cells."
   ]
  },
  {
   "cell_type": "markdown",
   "metadata": {
    "colab_type": "text",
    "id": "GOwlZRXEQSHZ",
    "pycharm": {}
   },
   "source": [
    "# Working with python\n",
    "Colaboratory is built on top of [Jupyter Notebook](https://jupyter.org/). Below are some examples of convenience functions provided."
   ]
  },
  {
   "cell_type": "markdown",
   "metadata": {
    "colab_type": "text",
    "id": "RVuqWUXPQSHa",
    "pycharm": {}
   },
   "source": [
    "Long running python processes can be interrupted. Run the following cell and select **Runtime -> Interrupt execution** (*hotkey: Cmd/Ctrl-M I*) to stop execution."
   ]
  },
  {
   "cell_type": "code",
   "execution_count": 0,
   "metadata": {
    "cellView": "both",
    "colab": {},
    "colab_type": "code",
    "id": "d-S-3nYLQSHb",
    "pycharm": {}
   },
   "outputs": [],
   "source": [
    "import time\n",
    "print(\"Sleeping\")\n",
    "time.sleep(30) # sleep for a while; interrupt me!\n",
    "print(\"Done Sleeping\")"
   ]
  },
  {
   "cell_type": "markdown",
   "metadata": {
    "colab_type": "text",
    "id": "Wej_mEyXQSHc",
    "pycharm": {}
   },
   "source": [
    "## System aliases\n",
    "\n",
    "Jupyter includes shortcuts for common operations, such as ls:"
   ]
  },
  {
   "cell_type": "code",
   "execution_count": 0,
   "metadata": {
    "cellView": "both",
    "colab": {},
    "colab_type": "code",
    "id": "5OCYEvK5QSHf",
    "pycharm": {}
   },
   "outputs": [],
   "source": [
    "!ls /bin"
   ]
  },
  {
   "cell_type": "markdown",
   "metadata": {
    "colab_type": "text",
    "id": "y8Da6JWKQSHh",
    "pycharm": {}
   },
   "source": [
    "That `!ls` probably generated a large output. You can select the cell and clear the output by either: \n",
    "\n",
    "1. Clicking on the clear output button (x) in the toolbar above the cell; or\n",
    "2. Right clicking the left gutter of the output area and selecting \"Clear output\" from the context menu.\n",
    "\n",
    "Execute any other process using `!` with string interpolation from python variables, and note the result can be assigned to a variable:"
   ]
  },
  {
   "cell_type": "code",
   "execution_count": 0,
   "metadata": {
    "cellView": "both",
    "colab": {},
    "colab_type": "code",
    "id": "zqGrv0blQSHj",
    "pycharm": {}
   },
   "outputs": [],
   "source": [
    "message = 'Colaboratory is great!'\n",
    "foo = !echo -e '$message\\n$message'\n",
    "foo"
   ]
  },
  {
   "cell_type": "markdown",
   "metadata": {
    "colab_type": "text",
    "id": "qM4myQGfQboQ",
    "pycharm": {}
   },
   "source": [
    "## Magics\n",
    "Colaboratory shares the notion of magics from Jupyter. There are shorthand annotations that change how a cell's text is executed. To learn more, see [Jupyter's magics page](http://nbviewer.jupyter.org/github/ipython/ipython/blob/1.x/examples/notebooks/Cell%20Magics.ipynb). \n"
   ]
  },
  {
   "cell_type": "code",
   "execution_count": 0,
   "metadata": {
    "cellView": "both",
    "colab": {},
    "colab_type": "code",
    "id": "odfM-_GxWbCy",
    "pycharm": {}
   },
   "outputs": [],
   "source": [
    "%%html\n",
    "<marquee style='width: 30%; color: blue;'><b>Whee!</b></marquee>"
   ]
  },
  {
   "cell_type": "code",
   "execution_count": 0,
   "metadata": {
    "colab": {},
    "colab_type": "code",
    "id": "_YrTcK7k22Fp",
    "pycharm": {}
   },
   "outputs": [],
   "source": [
    "%%html\n",
    "<svg xmlns=\"http://www.w3.org/2000/svg\" viewBox=\"0 0 450 400\" width=\"200\" height=\"200\">\n",
    "  <rect x=\"80\" y=\"60\" width=\"250\" height=\"250\" rx=\"20\" style=\"fill:red; stroke:black; fill-opacity:0.7\" />\n",
    "  <rect x=\"180\" y=\"110\" width=\"250\" height=\"250\" rx=\"40\" style=\"fill:blue; stroke:black; fill-opacity:0.5;\" />\n",
    "</svg>"
   ]
  },
  {
   "cell_type": "markdown",
   "metadata": {
    "colab_type": "text",
    "id": "d4L9TOP9QSHn",
    "pycharm": {}
   },
   "source": [
    "## Tab-completion and exploring code\n",
    "\n",
    "Colab provides tab completion to explore attributes of Python objects, as well as to quickly view documentation strings. As an example, first run the following cell to import the  [`numpy`](http://www.numpy.org) module."
   ]
  },
  {
   "cell_type": "code",
   "execution_count": 0,
   "metadata": {
    "cellView": "both",
    "colab": {},
    "colab_type": "code",
    "id": "Q0JKWcmtQSHp",
    "pycharm": {}
   },
   "outputs": [],
   "source": [
    "import numpy as np"
   ]
  },
  {
   "cell_type": "markdown",
   "metadata": {
    "colab_type": "text",
    "id": "1M890-bXeyYp",
    "pycharm": {}
   },
   "source": [
    "If you now insert your cursor after ``np.random.`` and press **Tab**, you will see the list of available completions within the ``np.random`` submodule."
   ]
  },
  {
   "cell_type": "code",
   "execution_count": 0,
   "metadata": {
    "cellView": "both",
    "colab": {},
    "colab_type": "code",
    "id": "j6QRIfUHQSHq",
    "pycharm": {}
   },
   "outputs": [],
   "source": [
    "np.random."
   ]
  },
  {
   "cell_type": "markdown",
   "metadata": {
    "colab_type": "text",
    "id": "g6MfomFhQSHs",
    "pycharm": {}
   },
   "source": [
    "If you type an open parenthesis followed by the **Tab** key after any function or class in the module, you will see a pop-up of its documentation string:"
   ]
  },
  {
   "cell_type": "code",
   "execution_count": 0,
   "metadata": {
    "cellView": "both",
    "colab": {},
    "colab_type": "code",
    "id": "SD0XnrVhQSHt",
    "pycharm": {}
   },
   "outputs": [],
   "source": [
    "np.random.rand("
   ]
  },
  {
   "cell_type": "markdown",
   "metadata": {
    "colab_type": "text",
    "id": "9ReRLQaxJ-zP",
    "pycharm": {}
   },
   "source": [
    "To open the documentation in a persistent pane at the bottom of your screen, add a **?** after the object or method name and execute the cell using **Shift+Enter**:"
   ]
  },
  {
   "cell_type": "code",
   "execution_count": 0,
   "metadata": {
    "cellView": "both",
    "colab": {},
    "colab_type": "code",
    "id": "YgQ6Tu7DK17l",
    "pycharm": {}
   },
   "outputs": [],
   "source": [
    "np.random?"
   ]
  },
  {
   "cell_type": "markdown",
   "metadata": {
    "colab_type": "text",
    "id": "TYTBdJXxfqiJ",
    "pycharm": {}
   },
   "source": [
    "## Exception Formatting"
   ]
  },
  {
   "cell_type": "markdown",
   "metadata": {
    "colab_type": "text",
    "id": "4bqAVK-aQSHx",
    "pycharm": {}
   },
   "source": [
    "Exceptions are formatted nicely in Colab outputs:"
   ]
  },
  {
   "cell_type": "code",
   "execution_count": 0,
   "metadata": {
    "cellView": "both",
    "colab": {},
    "colab_type": "code",
    "id": "CrJf1PEmQSHx",
    "pycharm": {}
   },
   "outputs": [],
   "source": [
    "x = 1\n",
    "y = 4\n",
    "z = y/(1-x)"
   ]
  },
  {
   "cell_type": "markdown",
   "metadata": {
    "colab_type": "text",
    "id": "7cRnhv_7N4Pa",
    "pycharm": {}
   },
   "source": [
    "## Rich, interactive outputs\n",
    "Until now all of the generated outputs have been text, but they can be more interesting, like the chart below. "
   ]
  },
  {
   "cell_type": "code",
   "execution_count": 0,
   "metadata": {
    "colab": {},
    "colab_type": "code",
    "id": "JVXnTqyE9RET",
    "pycharm": {}
   },
   "outputs": [],
   "source": [
    "import numpy as np\n",
    "from matplotlib import pyplot as plt\n",
    "\n",
    "ys = 200 + np.random.randn(100)\n",
    "x = [x for x in range(len(ys))]\n",
    "\n",
    "plt.plot(x, ys, '-')\n",
    "plt.fill_between(x, ys, 195, where=(ys > 195), facecolor='g', alpha=0.6)\n",
    "\n",
    "plt.title(\"Fills and Alpha Example\")\n",
    "plt.show()"
   ]
  },
  {
   "cell_type": "markdown",
   "metadata": {
    "colab_type": "text",
    "id": "aro-UJgUQSH1",
    "pycharm": {}
   },
   "source": [
    "# Integration with Drive\n",
    "\n",
    "Colaboratory is integrated with Google Drive. It allows you to share, comment, and collaborate on the same document with multiple people:\n",
    "\n",
    "* The **SHARE** button (top-right of the toolbar) allows you to share the notebook and control permissions set on it.\n",
    "\n",
    "* **File->Make a Copy** creates a copy of the notebook in Drive.\n",
    "\n",
    "* **File->Save** saves the File to Drive. **File->Save and checkpoint** pins the version so it doesn't get deleted from the revision history. \n",
    "\n",
    "* **File->Revision history** shows the notebook's revision history. \n",
    "\n",
    "* Multiple people can **collaboratively edit** the same notebook at the same time. Like Google Docs, you can see collaborators both within the document (top right, left of the comments button) and within a cell (right of the cell). "
   ]
  },
  {
   "cell_type": "markdown",
   "metadata": {
    "colab_type": "text",
    "id": "4hfV37gxpP_c",
    "pycharm": {}
   },
   "source": [
    "## Commenting on a cell\n",
    "You can comment on a Colaboratory notebook like you would on a Google Document. Comments are attached to cells, and are displayed next to the cell they refer to. If you have **comment-only** permissions, you will see a comment button on the top right of the cell when you hover over it.\n",
    "\n",
    "If you have edit or comment permissions you can comment on a cell in one of three ways: \n",
    "\n",
    "1. Select a cell and click the comment button in the toolbar above the top-right corner of the cell.\n",
    "1. Right click a text cell and select **Add a comment** from the context menu.\n",
    "3. Use the shortcut **Ctrl+Shift+M** to add a comment to the currently selected cell. \n",
    "\n",
    "You can resolve and reply to comments, and you can target comments to specific collaborators by typing *+[email address]* (e.g., `+user@domain.com`). Addressed collaborators will be emailed. \n",
    "\n",
    "The Comment button in the top-right corner of the page shows all comments attached to the notebook."
   ]
  },
  {
   "cell_type": "markdown",
   "metadata": {
    "pycharm": {
     "metadata": false
    }
   },
   "source": [
    "## Test Display\n"
   ]
  },
  {
   "cell_type": "code",
   "execution_count": null,
   "metadata": {
    "pycharm": {
     "is_executing": false,
     "metadata": false,
     "name": "#%%\n"
    }
   },
   "outputs": [
    {
     "data": {
      "image/png": "[encoded data removed]",
      "text/plain": [
       "<Figure size 432x288 with 1 Axes>"
      ]
     },
     "metadata": {},
     "output_type": "display_data"
    }
   ],
   "source": [
    "import gym\n",
    "\n",
    "env = gym.make('CartPole-v0')\n",
    "\n",
    "from IPython import display\n",
    "import matplotlib.pyplot as plt\n",
    "%matplotlib inline\n",
    "\n",
    "env.reset()\n",
    "img = plt.imshow(env.render(mode='rgb_array')) # only call this once\n",
    "for _ in range(100):\n",
    "    img.set_data(env.render(mode='rgb_array')) # just update the data\n",
    "    display.display(plt.gcf())\n",
    "    display.clear_output(wait=True)\n",
    "    action = env.action_space.sample()\n",
    "    env.step(action)\n",
    "\n",
    "\n"
   ]
  },
  {
   "cell_type": "code",
   "execution_count": null,
   "metadata": {},
   "outputs": [],
   "source": []
  }
 ],
 "metadata": {
  "colab": {
   "collapsed_sections": [],
   "name": "DEED",
   "provenance": [],
   "toc_visible": true,
   "version": "0.3.2"
  },
  "kernelspec": {
   "display_name": "Python 3",
   "language": "python",
   "name": "python3"
  },
  "language_info": {
   "codemirror_mode": {
    "name": "ipython",
    "version": 3
   },
   "file_extension": ".py",
   "mimetype": "text/x-python",
   "name": "python",
   "nbconvert_exporter": "python",
   "pygments_lexer": "ipython3",
   "version": "3.7.2"
  }
 },
 "nbformat": 4,
 "nbformat_minor": 1
}
