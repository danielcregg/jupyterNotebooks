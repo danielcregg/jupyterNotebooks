{
  "cells": [
    {
      "cell_type": "markdown",
      "metadata": {
        "colab_type": "text",
        "id": "JyG45Qk3qQLS",
        "pycharm": {}
      },
      "source": "# Dynamic Economic Emissions Dispatch (i.e. DEED)\nThis notebook details the basics of DEED via open ai gym."
    },
    {
      "cell_type": "markdown",
      "metadata": {
        "colab_type": "text",
        "id": "M6yJLx_cRpH1",
        "pycharm": {}
      },
      "source": [
        "## Cost Function Inputs\n",
        "\n",
        "$P_i^m\\\u003e$power output of ith unit at time m\n",
        "\n",
        "$P^{min}_i ; P^{max}_i\\\u003e$    lower and upper generation limits for $i^{th}$ unit\n",
        "\n",
        "$P_{Dm}\\\u003e$ load demand at time $t$\n",
        "\n",
        "$P_{Lm}\\\u003e$ transmission line losses at time $m$\n",
        "\n",
        "$a_i,b_i, c_i,d_i, ei\\\u003e$ cost coefficients of $i^{th}$ unit\n",
        "\n",
        "$\\alpha_i,\\beta_i, \\gamma_i,\\eta_i,\\delta_i\\\u003e$ emission coefficients of $i^{th}$ unit\n",
        "\n",
        "$UR_i,DR_i\\\u003e$ ramp-up and ramp-down rate limits of ith unit\n",
        "\n",
        "$N\\\u003e$ number of generating units\n",
        "\n",
        "$M\\\u003e$ number of hours in the time horizon"
      ]
    },
    {
      "cell_type": "code",
      "execution_count": 1,
      "metadata": {
        "colab": {},
        "colab_type": "code",
        "id": "AK5jryqJZkjT",
        "pycharm": {
          "is_executing": false
        }
      },
      "outputs": [
        {
          "name": "stderr",
          "output_type": "stream",
          "text": [
            "\u0027wget\u0027 is not recognized as an internal or external command,\n",
            "operable program or batch file.\n",
            "\u0027unzip\u0027 is not recognized as an internal or external command,\n",
            "operable program or batch file.\n",
            "The system cannot find the path specified.\n",
            "\u0027chpasswd\u0027 is not recognized as an internal or external command,\n",
            "operable program or batch file.\n",
            "The syntax of the command is incorrect.\n",
            "The system cannot find the path specified.\n",
            "The system cannot find the path specified.\n",
            "The system cannot find the path specified.\n",
            "The system cannot find the path specified.\n",
            "\u0027python3\u0027 is not recognized as an internal or external command,\n",
            "operable program or batch file.\n"
          ]
        },
        {
          "name": "stdout",
          "output_type": "stream",
          "text": [
            "Copy authtoken from https://dashboard.ngrok.com/auth\n",
            "Root password: wC81wbMKVSnvw6fsNHGm\n"
          ]
        }
      ],
      "source": [
        "\n",
        "# Generate root password\n",
        "import random, string\n",
        "password \u003d \u0027\u0027.join(random.choice(string.ascii_letters + string.digits) for i in range(20))\n",
        "\n",
        "#Download ngrok\n",
        "! wget -q -c -nc https://bin.equinox.io/c/4VmDzA7iaHb/ngrok-stable-linux-amd64.zip\n",
        "! unzip -qq -n ngrok-stable-linux-amd64.zip\n",
        "#Setup sshd\n",
        "! apt-get install -qq -o\u003dDpkg::Use-Pty\u003d0 openssh-server pwgen \u003e /dev/null\n",
        "#Set root password\n",
        "! echo root:$password | chpasswd\n",
        "! mkdir -p /var/run/sshd\n",
        "! echo \"PermitRootLogin yes\" \u003e\u003e /etc/ssh/sshd_config\n",
        "! echo \"PasswordAuthentication yes\" \u003e\u003e /etc/ssh/sshd_config\n",
        "! echo \"LD_LIBRARY_PATH\u003d/usr/lib64-nvidia\" \u003e\u003e /root/.bashrc\n",
        "! echo \"export LD_LIBRARY_PATH\" \u003e\u003e /root/.bashrc\n",
        "\n",
        "#Run sshd\n",
        "get_ipython().system_raw(\u0027/usr/sbin/sshd -D \u0026\u0027)\n",
        "\n",
        "#Ask token\n",
        "print(\"Copy authtoken from https://dashboard.ngrok.com/auth\")\n",
        "import getpass\n",
        "authtoken \u003d getpass.getpass()\n",
        "\n",
        "#Create tunnel\n",
        "get_ipython().system_raw(\u0027./ngrok authtoken $authtoken \u0026\u0026 ./ngrok tcp 22 \u0026\u0027)\n",
        "#Print root password\n",
        "print(\"Root password: {}\".format(password))\n",
        "#Get public address\n",
        "! curl -s http://localhost:4040/api/tunnels | python3 -c \\\n",
        "    \"import sys, json; print(json.load(sys.stdin)[\u0027tunnels\u0027][0][\u0027public_url\u0027])\""
      ]
    },
    {
      "cell_type": "markdown",
      "metadata": {
        "colab_type": "text",
        "id": "G7UnYLLzLY5X",
        "pycharm": {}
      },
      "source": [
        "**Create Environment**\n",
        "\n",
        "Environments all descend from the Env base class. You can view a list of all environments via:\n",
        "\n",
        "```\n",
        "from gym import envs\n",
        "print(envs.registry.all())\n",
        "```\n",
        "\n",
        "Important environment functions/properties:\n",
        "\n",
        "**step**: Returns info regarding what our actions are doing to the \n",
        "\n",
        "* environment at each step. The return values:\n",
        "* observation (object)\n",
        "* reward (float)\n",
        "* done (boolean)\n",
        "* info (dict)\n",
        "**reset**: returns an initial observation.\n",
        "**Space objects**: two objects (below) that describe the valid actions and observations.\n",
        "\n",
        "* action_space [returns Discrete(2) for cartpole]. Example usage of Discrete: \n",
        "\n",
        "```\n",
        "python from gym import spaces space \u003d spaces.Discrete(8) # Set with 8 elements {0, 1, 2, ..., 7} x \u003d space.sample() assert space.contains(x) assert space.n \u003d\u003d 8\n",
        "```\n",
        "\n",
        "* observation_space [returns Box(4) for cartpole]\n"
      ]
    },
    {
      "cell_type": "code",
      "execution_count": 2,
      "metadata": {
        "colab": {},
        "colab_type": "code",
        "id": "RDtp4VJiLUDd",
        "pycharm": {
          "is_executing": false
        }
      },
      "outputs": [],
      "source": [
        "import gym\n",
        "from gym import error, spaces, utils\n",
        "from gym.utils import seeding\n",
        "import pandas as pd # import pandas to use pandas DataFrame\n",
        "import numpy as np\n",
        "from math import sin\n",
        "from math import exp\n",
        "\n",
        "class Generators(gym.Env):\n",
        "  \u0027Class for Generators environment\u0027\n",
        "  metadata \u003d {\u0027render.modes\u0027: [\u0027human\u0027]}\n",
        "    \n",
        "  # Set constants \n",
        "  N \u003d 10 # N \u003d number of generators\n",
        "  M \u003d 24 # M \u003d number of hours in day\n",
        "  E \u003d 10 # Emissions scaling factor\n",
        "  \n",
        "  # DataFrame created whith generator data in the form of list of tuples \n",
        "  generator_characteristics \u003d pd.DataFrame([(150,470, 786.7988,38.5397,0.1524,450,0.041,103.3908,-2.4444,0.0312,0.5035,0.0207,80,80),\n",
        "                                            (135,470, 451.3251,46.1591,0.1058,600,0.036,103.3908,-2.4444,0.0312,0.5035,0.0207,80,80),\n",
        "                                            ( 73,340,1049.9977,40.3965,0.0280,320,0.028,300.3910,-4.0695,0.0509,0.4968,0.0202,80,80),\n",
        "                                            ( 60,300,1243.5311,38.3055,0.0354,260,0.052,300.3910,-4.0695,0.0509,0.4968,0.0202,50,50),\n",
        "                                            ( 73,243,1658.5696,36.3278,0.0211,280,0.063,320.0006,-3.8132,0.0344,0.4972,0.0200,50,50),\n",
        "                                            ( 57,160,1356.6592,38.2704,0.0179,310,0.048,320.0006,-3.8132,0.0344,0.4972,0.0200,50,50),\n",
        "                                            ( 20,130,1450.7045,36.5104,0.0121,300,0.086,330.0056,-3.9023,0.0465,0.5163,0.0214,30,30),\n",
        "                                            ( 47,120,1450.7045,36.5104,0.0121,340,0.082,330.0056,-3.9023,0.0465,0.5163,0.0214,30,30),\n",
        "                                            ( 20, 80,1455.6056,39.5804,0.1090,270,0.098,350.0056,-3.9524,0.0465,0.5475,0.0234,30,30),\n",
        "                                            ( 10, 55,1469.4026,40.5407,0.1295,380,0.094,360.0012,-3.9864,0.0470,0.5475,0.0234,30,30)],\n",
        "                                            columns\u003d[\"p_min_i\",\"p_max_i\",\"a_i\",\"b_i\",\"c_i\",\"d_i\",\"e_i\",\"alpha_i\",\"beta_i\",\"gamma_i\",\"eta_i\",\"delta_i\",\"ur_i\",\"dr_i\"],\n",
        "                                            index\u003d[\"unit1\",\"unit2\",\"unit3\",\"unit4\",\"unit5\",\"unit6\",\"unit7\",\"unit8\",\"unit9\",\"unit10\"])\n",
        "    \n",
        "  #B is the matrix of transmission line loss coefficients\n",
        "  # data in the form of list of tuples \n",
        "  B \u003d pd.DataFrame([(0.000049,0.000014,0.000015,0.000015,0.000016,0.000017,0.000017,0.000018,0.000019,0.000020),\n",
        "                    (0.000014,0.000045,0.000016,0.000016,0.000017,0.000015,0.000015,0.000016,0.000018,0.000018),\n",
        "                    (0.000015,0.000016,0.000039,0.000010,0.000012,0.000012,0.000014,0.000014,0.000016,0.000016),\n",
        "                    (0.000015,0.000016,0.000010,0.000040,0.000014,0.000010,0.000011,0.000012,0.000014,0.000015),\n",
        "                    (0.000016,0.000017,0.000012,0.000014,0.000035,0.000011,0.000013,0.000013,0.000015,0.000016),\n",
        "                    (0.000017,0.000015,0.000012,0.000010,0.000011,0.000036,0.000012,0.000012,0.000014,0.000015),\n",
        "                    (0.000017,0.000015,0.000014,0.000011,0.000013,0.000012,0.000038,0.000016,0.000016,0.000018),\n",
        "                    (0.000018,0.000016,0.000014,0.000012,0.000013,0.000012,0.000016,0.000040,0.000015,0.000016),\n",
        "                    (0.000019,0.000018,0.000016,0.000014,0.000015,0.000014,0.000016,0.000015,0.000042,0.000019),\n",
        "                    (0.000020,0.000018,0.000016,0.000015,0.000016,0.000015,0.000018,0.000016,0.000019,0.000044)])\n",
        "    \n",
        "  #self.state \u003d np.array([0.0,74.0,148.0,148.0,74.0,148.0,74.0,74.0,148.0,98.0,84.0,44.0,-78.0,-148.0,-148.0,-222.0,-74.0,148.0,148.0,196.0,-48.0,-296.0,-296.0,-148.0])\n",
        "  # data in the form of list of tuples \n",
        "  hour_power_demand \u003d pd.DataFrame([(1036),(1110),(1258),(1406),(1480),(1628),(1702),(1776),(1924),(2022),(2106),(2150),(2072),(1924),(1776),(1554),(1480),(1628),(1776),(1972),(1924),(1628),(1332),(1184)],\n",
        "                                   columns\u003d[\"p_d\"],\n",
        "                                   index\u003d[\"hour1\",\"hour2\",\"hour3\",\"hour4\",\"hour5\",\"hour6\",\"hour7\",\"hour8\",\"hour9\",\"hour10\",\"hour11\",\"hour12\",\"hour13\",\"hour14\",\"hour15\",\"hour16\",\"hour17\",\"hour18\",\"hour19\",\"hour20\",\"hour21\",\"hour22\",\"hour23\",\"hour24\"])\n",
        "\n",
        "  def __init__(self):\n",
        "    print(\"Generators Environment Initialised\")\n",
        "    #self.state \u003d hour_power_demand.diff()\n",
        "    self.state \u003d []\n",
        "    self.active_unit \u003d \"unit1\"\n",
        "    self.counter \u003d 0\n",
        "    self.done \u003d 0\n",
        "    self.add \u003d [0, 0]\n",
        "    self.reward \u003d 0\n",
        "    self.action_space \u003d spaces.Discrete(101) # Set with 101 elements {0, 1, 2 ... 100}\n",
        "  \n",
        "  def show_unit_characteristics(self, unit):\n",
        "    print(\"Unit Name:\", unit)\n",
        "    print(self.generator_characteristics.loc[unit, :])\n",
        "  \n",
        "  def cost_function_local(self, unit):\n",
        "    a_n \u003d self.generator_characteristics.loc[unit, \"a_i\"]\n",
        "    b_n \u003d self.generator_characteristics.loc[unit, \"b_i\"]\n",
        "    c_n \u003d self.generator_characteristics.loc[unit, \"c_i\"]\n",
        "    d_n \u003d self.generator_characteristics.loc[unit, \"d_i\"]\n",
        "    e_n \u003d self.generator_characteristics.loc[unit, \"e_i\"]\n",
        "    P_min_n \u003d self.generator_characteristics.loc[unit, \"p_min_i\"]\n",
        "    P_n_m \u003d np.random.uniform(low\u003dself.generator_characteristics.loc[unit, \"p_min_i\"], high\u003dself.generator_characteristics.loc[unit, \"p_max_i\"])\n",
        "    return round(a_n + (b_n * P_n_m) + c_n*(P_n_m**2) + abs(d_n * sin(e_n * (P_min_n - P_n_m))),2)\n",
        "  \n",
        "  def cost_function_global(self):\n",
        "    global_cost \u003d 0\n",
        "    for i, row in self.generator_characteristics.iterrows():\n",
        "      global_cost +\u003d self.cost_function_local(i)\n",
        "    return round(global_cost,2)\n",
        "  \n",
        "  def emissions_function_local(self, unit):\n",
        "    alpha_n \u003d self.generator_characteristics.loc[unit, \"alpha_i\"]\n",
        "    beta_n \u003d self.generator_characteristics.loc[unit, \"beta_i\"]\n",
        "    gamma_n \u003d self.generator_characteristics.loc[unit, \"gamma_i\"]\n",
        "    eta_n \u003d self.generator_characteristics.loc[unit, \"eta_i\"]\n",
        "    delta_n \u003d self.generator_characteristics.loc[unit, \"delta_i\"]\n",
        "    P_min_n \u003d self.generator_characteristics.loc[unit, \"p_min_i\"]\n",
        "    P_n_m \u003d np.random.uniform(low\u003dself.generator_characteristics.loc[unit, \"p_min_i\"], high\u003dself.generator_characteristics.loc[unit, \"p_max_i\"])\n",
        "    return self.E * (alpha_n + (beta_n * P_n_m) + gamma_n * (P_n_m**2) + eta_n * exp(delta_n * P_n_m))\n",
        "  \n",
        "  def emissions_function_global(self):\n",
        "    global_emissions \u003d 0\n",
        "    for i, row in self.generator_characteristics.iterrows():\n",
        "      global_emissions +\u003d self.emissions_function_local(i)\n",
        "    return global_emissions\n",
        "     \n",
        "    # Show full dataFrame\n",
        "    #print(generator_characteristics)\n",
        "\n",
        "    # select a column by name (i.e. label)\n",
        "    #print(generator_characteristics.loc[:, \"b_i\"])\n",
        "\n",
        "    # Get numpy array instead of pandas series\n",
        "    #print(generator_characteristics.loc[:, \"b_i\"]).values\n",
        "\n",
        "    # Select a unit by label\n",
        "    #print(generator_characteristics.loc[\"unit3\", :])\n",
        "\n",
        "    # Select rows based on cloumn value\n",
        "    #print(generator_characteristics.loc[generator_characteristics.loc[:, \"dr_i\"] \u003c\u003d 50, :])\n",
        "\n",
        "    # Select a specific unit value by label\n",
        "    #print(generator_characteristics.loc[\"unit3\", \"d_i\"])\n",
        "    # Show full dataFrame\n",
        "\n",
        "    #--------------------------------------------------------------------------------\n",
        "\n",
        "    # Select a specific unit value by its index\n",
        "    #print(B.iloc[0,0])\n",
        "    \n",
        "    # Show full dataFrame\n",
        "    #print(hour_power_demand)\n",
        "\n",
        "    #ax \u003d hour_power_demand.plot(title\u003d\"HOURLY POWER DEMAND\", kind\u003d\"bar\", color\u003d\u0027red\u0027)\n",
        "\n",
        "    #ax.set_xlabel(\"Hour\")\n",
        "    #ax.set_ylabel(\"MW\")\n",
        "\n",
        "  def step(self, action):\n",
        "    assert self.action_space.contains(action), \"%r (%s) invalid\"%(action, type(action))\n",
        "    P_n \u003d self.generator_characteristics.loc[self.active_unit , \"p_min_i\"] + action * ((self.generator_characteristics.loc[self.active_unit , \"p_max_i\"] - self.generator_characteristics.loc[self.active_unit , \"p_min_i\"]) / 100)\n",
        "    print(P_n)\n",
        "    state \u003d self.state\n",
        "    if self.done \u003d\u003d 1:\n",
        "      print(\"Game Over\")\n",
        "      return [self.state, self.reward, self.done, self.add]\n",
        "    else:\n",
        "      print(\"Game in progress\")\n",
        "      return [self.state, self.reward, self.done, self.add]\n",
        "   \n",
        "  def render(self):\n",
        "    print(\"This is a render of the Generators Environment\")\n",
        "  \n",
        "  def reset(self):\n",
        "    print(\"Generators Environment Reset\")\n",
        "    #self.state \u003d hour_power_demand.diff()\n",
        "    self.state \u003d []\n",
        "    self.counter \u003d 0\n",
        "    self.done \u003d 0\n",
        "    self.add \u003d [0, 0]\n",
        "    self.reward \u003d 0\n",
        "    #space \u003d spaces.Discrete(24) # Set with 8 elements {0, 1, 2, ..., 23}\n",
        "    #self.action_space \u003d spaces.Tuple((spaces.Discrete(101)))\n",
        "\n",
        "# delete if it\u0027s registered\n",
        "env_name \u003d \u0027Generators-v0\u0027\n",
        "if env_name in gym.envs.registry.env_specs:\n",
        "    del gym.envs.registry.env_specs[env_name]\n",
        "\n",
        "# register the environment so we can play with it\n",
        "gym.register(\n",
        "    id\u003denv_name,\n",
        "    entry_point\u003dGenerators\n",
        ")"
      ]
    },
    {
      "cell_type": "code",
      "execution_count": 3,
      "metadata": {
        "colab": {
          "base_uri": "https://localhost:8080/",
          "height": 102
        },
        "colab_type": "code",
        "id": "t4Qe6NhOzWgX",
        "outputId": "205ac8d9-e2f1-4c48-e680-2ce2438043ac",
        "pycharm": {
          "is_executing": false
        }
      },
      "outputs": [
        {
          "name": "stdout",
          "output_type": "stream",
          "text": [
            "Generators Environment Initialised\n",
            "Discrete(101)\n",
            "150.0\n",
            "Game in progress\n"
          ]
        },
        {
          "data": {
            "text/plain": [
              "[[], 0, 0, [0, 0]]"
            ]
          },
          "execution_count": 3,
          "metadata": {},
          "output_type": "execute_result"
        }
      ],
      "source": [
        "#!pip install cmake \u0027gym[atari]\u0027 scipy \u003e /dev/null\n",
        "\n",
        "\n",
        "#!pip install -e git+https://github.com/apoddar573/Tic-Tac-Toe-Gym_Environment#egg\u003dgym_tictac4\n",
        "#!pip install -e git+https://github.com/danielcregg/Generators-Gym_Environment\n",
        "  \n",
        "#import gym\n",
        "#os.chdir(\u0027/content/src/gym-generators\u0027)\n",
        "#import gym_generators\n",
        "#os.chdir(\u0027/content\u0027)\n",
        "\n",
        "#from gym_generators.envs.generators_env import Generators\n",
        "#from gym_tictac4.envs.tictac4_env import TicTac4\n",
        "#from gym_foo.envs.foo_env import FooEnv\n",
        "#import gym_generators\n",
        "\n",
        "#env \u003d gym.make(\"Taxi-v2\").env\n",
        "#env \u003d gym.make(\"gym_tictac4\").env\n",
        "env \u003d gym.make(\"Generators-v0\")\n",
        "\n",
        "print(env.action_space)\n",
        "#print(env.action_space.n)\n",
        "#print(env.action_space.sample())\n",
        "\n",
        "#env.reset()\n",
        "\n",
        "env.step(0)\n",
        "\n",
        "\n",
        "\n",
        "\n",
        "#env.show_unit_characteristics(\"unit5\")\n",
        "\n",
        "#print(env.cost_function_local(\"unit5\"))\n",
        "\n",
        "#print(env.cost_function_global())\n",
        "#print(env.emissions_function_local(\"unit1\"))\n",
        "#print(env.emissions_function_global())"
      ]
    },
    {
      "cell_type": "code",
      "execution_count": 0,
      "metadata": {
        "colab": {},
        "colab_type": "code",
        "id": "awMLDqtmlcRX",
        "pycharm": {}
      },
      "outputs": [],
      "source": [
        "#os.chdir(\u0027/content\u0027)\n",
        "#!rm -rf gym-foo\n",
        "#!pip install cookiecutter\n",
        "#!cookiecutter https://github.com/nbren12/gym_environment_cookie\n",
        "#!pip install -e git+https://github.com/danielcregg/gym-generators#egg\u003dgym-generators\n",
        "#!pip install -e git+https://github.com/apoddar573/Tic-Tac-Toe-Gym_Environment#egg\u003dTic-Tac-Toe-Gym_Environment\n",
        "#!pip install -e git+https://github.com/apoddar573/Tic-Tac-Toe-Gym_Environment/tree/master/gym-tictac4#egg\u003dgym-tictac4\n",
        " #!pip install -e /content/src/tic-tac-toe-gym-environment/gym-tictac4\n",
        "#!pip install -e /content/gym-generators\n",
        "#import os\n",
        "#os.chdir(\u0027/content/gym-foo\u0027)\n",
        "#!pip install -e .\n",
        "#import gym_foo\n",
        "#gym_foo\n",
        "\n",
        "#import importlib.util\n",
        "#spec \u003d importlib.util.spec_from_file_location(\"gym_foo\", \"/content/gym-foo\")\n",
        "#bar \u003d importlib.util.module_from_spec(spec)\n",
        "#spec.loader.exec_module(bar)"
      ]
    },
    {
      "cell_type": "code",
      "execution_count": 0,
      "metadata": {
        "colab": {},
        "colab_type": "code",
        "id": "m3_hZz61GnM0",
        "pycharm": {}
      },
      "outputs": [],
      "source": [
        "# Generate auth tokens for Colab\n",
        "from google.colab import auth\n",
        "auth.authenticate_user()"
      ]
    },
    {
      "cell_type": "markdown",
      "metadata": {
        "colab_type": "text",
        "id": "8WmzMCma0TZK",
        "pycharm": {}
      },
      "source": [
        "initialise q table"
      ]
    },
    {
      "cell_type": "code",
      "execution_count": 0,
      "metadata": {
        "colab": {},
        "colab_type": "code",
        "id": "xuHSBfeS0SZG",
        "pycharm": {}
      },
      "outputs": [],
      "source": [
        "import numpy as np\n",
        "#q_table \u003d np.zeros([env.observation_space.n, env.action_space.n])\n",
        "q_table \u003d np.zeros([9, 9])"
      ]
    },
    {
      "cell_type": "markdown",
      "metadata": {
        "colab_type": "text",
        "id": "z9ln_amWx4e3",
        "pycharm": {}
      },
      "source": [
        "Agent code below:\n",
        "\n",
        "\n",
        "\n"
      ]
    },
    {
      "cell_type": "code",
      "execution_count": 0,
      "metadata": {
        "colab": {},
        "colab_type": "code",
        "id": "bcV3M-q9x1yi",
        "pycharm": {}
      },
      "outputs": [],
      "source": [
        "%%time\n",
        "\"\"\"Training the agent\"\"\"\n",
        "\n",
        "import random\n",
        "from IPython.display import clear_output\n",
        "\n",
        "# Hyperparameters\n",
        "alpha \u003d 0.1\n",
        "gamma \u003d 0.75\n",
        "epsilon \u003d 0.05\n",
        "\n",
        "# For plotting metrics\n",
        "all_epochs \u003d []\n",
        "all_penalties \u003d []\n",
        "\n",
        "for i in range(1, 20001):\n",
        "    state \u003d env.reset()\n",
        "\n",
        "    epochs, penalties, reward, \u003d 0, 0, 0\n",
        "    done \u003d False\n",
        "    \n",
        "    while not done:\n",
        "        if random.uniform(0, 1) \u003c epsilon:\n",
        "            action \u003d env.action_space.sample() # Explore action space\n",
        "        else:\n",
        "            action \u003d np.argmax(q_table[state]) # Exploit learned values\n",
        "\n",
        "        next_state, reward, done, info \u003d env.step(action) \n",
        "        \n",
        "        old_value \u003d q_table[state, action]\n",
        "        next_max \u003d np.max(q_table[next_state])\n",
        "        \n",
        "        new_value \u003d (1 - alpha) * old_value + alpha * (reward + gamma * next_max)\n",
        "        q_table[state, action] \u003d new_value\n",
        "\n",
        "        if reward \u003d\u003d -10:\n",
        "            penalties +\u003d 1\n",
        "\n",
        "        state \u003d next_state\n",
        "        epochs +\u003d 1\n",
        "        \n",
        "    if i % 100 \u003d\u003d 0:\n",
        "        clear_output(wait\u003dTrue)\n",
        "        print(f\"Episode: {i}\")\n",
        "\n",
        "print(\"Training finished.\\n\")"
      ]
    },
    {
      "cell_type": "markdown",
      "metadata": {
        "colab_type": "text",
        "id": "eP4KdHLjz7rT",
        "pycharm": {}
      },
      "source": [
        "Display single episode"
      ]
    },
    {
      "cell_type": "code",
      "execution_count": 0,
      "metadata": {
        "colab": {},
        "colab_type": "code",
        "id": "iY8seuXNz6ev",
        "pycharm": {}
      },
      "outputs": [],
      "source": [
        "\"\"\"Dispaly agent\u0027s performance after Q-learning\"\"\"\n",
        "from IPython.display import clear_output\n",
        "from time import sleep\n",
        "\n",
        "state \u003d env.reset()\n",
        "epochs, penalties, reward \u003d 0, 0, 0\n",
        "frames \u003d [] # for animation\n",
        "\n",
        "\n",
        "def print_frames(frames):\n",
        "    for i, frame in enumerate(frames):\n",
        "        clear_output(wait\u003dTrue)\n",
        "        print(frame[\u0027frame\u0027].getvalue())\n",
        "        print(f\"Timestep: {i + 1}\")\n",
        "        print(f\"State: {frame[\u0027state\u0027]}\")\n",
        "        print(f\"Action: {frame[\u0027action\u0027]}\")\n",
        "        print(f\"Reward: {frame[\u0027reward\u0027]}\")\n",
        "        sleep(.5)\n",
        "    clear_output(wait\u003dTrue)\n",
        "    print(frame[\u0027frame\u0027].getvalue())\n",
        "    print(f\"Total Timesteps: {i}\")\n",
        "    print(\"Total Penalties: {}\".format(penalties)) \n",
        "\n",
        "\n",
        "\n",
        "done \u003d False\n",
        "while not done:\n",
        "    action \u003d np.argmax(q_table[state])\n",
        "    state, reward, done, info \u003d env.step(action)\n",
        "\n",
        "    if reward \u003d\u003d -10:\n",
        "        penalties +\u003d 1\n",
        "\n",
        "    # Put each rendered frame into dict for animation\n",
        "    frames.append({\n",
        "        \u0027frame\u0027: env.render(mode\u003d\u0027ansi\u0027),\n",
        "        \u0027state\u0027: state,\n",
        "        \u0027action\u0027: action,\n",
        "        \u0027reward\u0027: reward\n",
        "        }\n",
        "    )\n",
        "    \n",
        "    epochs +\u003d 1\n",
        "    \n",
        "print_frames(frames)"
      ]
    },
    {
      "cell_type": "markdown",
      "metadata": {
        "colab_type": "text",
        "id": "SsvK2kU7yrqn",
        "pycharm": {}
      },
      "source": [
        "**Evaluating the agent**\n",
        "\n",
        "---\n",
        "\n",
        "Q(state,action)←(1−α)Q(state,action)+α(reward+γmaxaQ(next state,all actions))\n"
      ]
    },
    {
      "cell_type": "code",
      "execution_count": 0,
      "metadata": {
        "colab": {},
        "colab_type": "code",
        "id": "ptQAVOSJysC3",
        "pycharm": {}
      },
      "outputs": [],
      "source": [
        "\"\"\"Evaluate agent\u0027s performance after Q-learning\"\"\"\n",
        "\n",
        "total_epochs, total_penalties \u003d 0, 0\n",
        "episodes \u003d 100\n",
        "\n",
        "for _ in range(episodes):\n",
        "    state \u003d env.reset()\n",
        "    epochs, penalties, reward \u003d 0, 0, 0\n",
        "    \n",
        "    done \u003d False\n",
        "    \n",
        "    while not done:\n",
        "        action \u003d np.argmax(q_table[state])\n",
        "        state, reward, done, info \u003d env.step(action)\n",
        "\n",
        "        if reward \u003d\u003d -10:\n",
        "            penalties +\u003d 1\n",
        "\n",
        "        epochs +\u003d 1\n",
        "\n",
        "    total_penalties +\u003d penalties\n",
        "    total_epochs +\u003d epochs\n",
        "\n",
        "print(f\"Results after {episodes} episodes:\")\n",
        "print(f\"Average timesteps per episode: {total_epochs / episodes}\")\n",
        "print(f\"Average penalties per episode: {total_penalties / episodes}\")"
      ]
    },
    {
      "cell_type": "markdown",
      "metadata": {
        "colab_type": "text",
        "id": "CUEhqkCH0A_V",
        "pycharm": {}
      },
      "source": [
        "Creating Generator Environment"
      ]
    },
    {
      "cell_type": "code",
      "execution_count": 0,
      "metadata": {
        "colab": {},
        "colab_type": "code",
        "id": "Ff-0b8A0we1V",
        "pycharm": {}
      },
      "outputs": [],
      "source": []
    },
    {
      "cell_type": "code",
      "execution_count": 0,
      "metadata": {
        "colab": {},
        "colab_type": "code",
        "id": "q--UOyF8ht9G",
        "pycharm": {}
      },
      "outputs": [],
      "source": [
        "from ipywidgets import interact, interactive, fixed, interact_manual\n",
        "import ipywidgets as widgets\n",
        "from IPython.display import display\n",
        "\n",
        "import numpy as np\n",
        "import matplotlib.pyplot as plt\n",
        "#%matplotlib inline\n",
        "\n",
        "import pandas as pd\n",
        "\n",
        "from scipy.optimize import curve_fit as cf"
      ]
    },
    {
      "cell_type": "code",
      "execution_count": 0,
      "metadata": {
        "colab": {},
        "colab_type": "code",
        "id": "WYxTk2PKRNhK",
        "pycharm": {}
      },
      "outputs": [],
      "source": [
        "#@title Cost Function Inputs\n",
        "#@markdown Input Fileds\n",
        "\n",
        "Pm \u003d 102  #@param {type: \"number\"}\n",
        "\n",
        "\n",
        "\n",
        "\n",
        "no_type_checking \u003d \"Test\"  #@param\n",
        "string_type \u003d \u0027example\u0027  #@param {type: \"string\"}\n",
        "slider_value \u003d 100  #@param {type: \"slider\", min: 100, max: 200}\n",
        "number \u003d 102  #@param {type: \"number\"}\n",
        "date \u003d \u00272010-11-05\u0027  #@param {type: \"date\"}\n",
        "pick_me \u003d \"tuesday\"  #@param [\u0027monday\u0027, \u0027tuesday\u0027, \u0027wednesday\u0027, \u0027thursday\u0027]\n",
        "select_or_input \u003d \"apples\" #@param [\"apples\", \"bananas\", \"oranges\"] {allow-input: true}\n",
        "#@markdown ---\n"
      ]
    },
    {
      "cell_type": "code",
      "execution_count": 0,
      "metadata": {
        "colab": {},
        "colab_type": "code",
        "id": "AIl6Ugi-i1s_",
        "pycharm": {}
      },
      "outputs": [],
      "source": [
        "w \u003d Pm + slider_value\n",
        "display(w)"
      ]
    },
    {
      "cell_type": "markdown",
      "metadata": {
        "colab_type": "text",
        "id": "rzOAQJ8gWqEE",
        "pycharm": {}
      },
      "source": [
        "##Cost Equation\n",
        "\n",
        "\\begin{equation*}\n",
        "\\left( \\sum_{k\u003d1}^n a_k b_k \\right)^2 \\leq \\left( \\sum_{k\u003d1}^n a_k^2 \\right) \\left( \\sum_{k\u003d1}^n b_k^2 \\right)\n",
        "\\end{equation*}\n"
      ]
    },
    {
      "cell_type": "markdown",
      "metadata": {
        "colab_type": "text",
        "id": "aQ4v7LnX1Bzm",
        "pycharm": {}
      },
      "source": [
        "**Resources**\n",
        "\n",
        "[Reinforcement Q-Learning from Scratch in Python with OpenAI Gym](https://www.learndatasci.com/tutorials/reinforcement-q-learning-scratch-python-openai-gym/)"
      ]
    },
    {
      "cell_type": "code",
      "execution_count": 0,
      "metadata": {
        "colab": {},
        "colab_type": "code",
        "id": "xtdQeYNfcG29",
        "pycharm": {}
      },
      "outputs": [],
      "source": [
        "#@title Cost Function\n",
        "#@markdown Input Fileds\n",
        "\n",
        "\n",
        "\n",
        "Pim power output of ith unit at time m\n",
        "P min\n",
        "i ; P max\n",
        "i lower and upper generation limits for ith unit\n",
        "PDm load demand at time t\n",
        "PLm transmission line losses at time m\n",
        "ai,bi, ci,di, ei cost coefficients of ith unit\n",
        "ai,bi, ci,gi,di emission coefficients of ith unit\n",
        "URi,DRi ramp-up and ramp-down rate limits of ith unit\n",
        "N number of generating units\n",
        "M number of hours in the time horizon\n",
        "\n",
        "\n",
        "no_type_checking \u003d \"Test\"  #@param\n",
        "string_type \u003d \u0027example\u0027  #@param {type: \"string\"}\n",
        "slider_value \u003d 159  #@param {type: \"slider\", min: 100, max: 200}\n",
        "number \u003d 102  #@param {type: \"number\"}\n",
        "date \u003d \u00272010-11-05\u0027  #@param {type: \"date\"}\n",
        "pick_me \u003d \"tuesday\"  #@param [\u0027monday\u0027, \u0027tuesday\u0027, \u0027wednesday\u0027, \u0027thursday\u0027]\n",
        "select_or_input \u003d \"apples\" #@param [\"apples\", \"bananas\", \"oranges\"] {allow-input: true}\n",
        "#@markdown ---\n"
      ]
    },
    {
      "cell_type": "code",
      "execution_count": 0,
      "metadata": {
        "colab": {},
        "colab_type": "code",
        "id": "BF3rpxvlQcTy",
        "pycharm": {}
      },
      "outputs": [],
      "source": [
        "print(\"hello\")"
      ]
    },
    {
      "cell_type": "code",
      "execution_count": 0,
      "metadata": {
        "cellView": "both",
        "colab": {},
        "colab_type": "code",
        "id": "Pc-8f3aoPdJg",
        "pycharm": {}
      },
      "outputs": [],
      "source": [
        "#@title Example form fields\n",
        "#@markdown Forms support many types of fields.\n",
        "\n",
        "no_type_checking \u003d \"Test\"  #@param\n",
        "string_type \u003d \u0027example\u0027  #@param {type: \"string\"}\n",
        "slider_value \u003d 159  #@param {type: \"slider\", min: 100, max: 200}\n",
        "number \u003d 102  #@param {type: \"number\"}\n",
        "date \u003d \u00272010-11-05\u0027  #@param {type: \"date\"}\n",
        "pick_me \u003d \"tuesday\"  #@param [\u0027monday\u0027, \u0027tuesday\u0027, \u0027wednesday\u0027, \u0027thursday\u0027]\n",
        "select_or_input \u003d \"apples\" #@param [\"apples\", \"bananas\", \"oranges\"] {allow-input: true}\n",
        "#@markdown ---\n"
      ]
    },
    {
      "cell_type": "code",
      "execution_count": 0,
      "metadata": {
        "colab": {},
        "colab_type": "code",
        "id": "3WxBLwvCPd_m",
        "pycharm": {}
      },
      "outputs": [],
      "source": [
        "from IPython.display import display, Javascript\n",
        "from google.colab.output import eval_js\n",
        "from base64 import b64decode\n",
        "\n",
        "def take_photo(filename\u003d\u0027photo.jpg\u0027, quality\u003d0.8):\n",
        "  js \u003d Javascript(\u0027\u0027\u0027\n",
        "    async function takePhoto(quality) {\n",
        "      const div \u003d document.createElement(\u0027div\u0027);\n",
        "      const capture \u003d document.createElement(\u0027button\u0027);\n",
        "      capture.textContent \u003d \u0027Capture\u0027;\n",
        "      div.appendChild(capture);\n",
        "\n",
        "      const video \u003d document.createElement(\u0027video\u0027);\n",
        "      video.style.display \u003d \u0027block\u0027;\n",
        "      const stream \u003d await navigator.mediaDevices.getUserMedia({video: true});\n",
        "\n",
        "      document.body.appendChild(div);\n",
        "      div.appendChild(video);\n",
        "      video.srcObject \u003d stream;\n",
        "      await video.play();\n",
        "\n",
        "      // Resize the output to fit the video element.\n",
        "      google.colab.output.setIframeHeight(document.documentElement.scrollHeight, true);\n",
        "\n",
        "      // Wait for Capture to be clicked.\n",
        "      await new Promise((resolve) \u003d\u003e capture.onclick \u003d resolve);\n",
        "\n",
        "      const canvas \u003d document.createElement(\u0027canvas\u0027);\n",
        "      canvas.width \u003d video.videoWidth;\n",
        "      canvas.height \u003d video.videoHeight;\n",
        "      canvas.getContext(\u00272d\u0027).drawImage(video, 0, 0);\n",
        "      stream.getVideoTracks()[0].stop();\n",
        "      div.remove();\n",
        "      return canvas.toDataURL(\u0027image/jpeg\u0027, quality);\n",
        "    }\n",
        "    \u0027\u0027\u0027)\n",
        "  display(js)\n",
        "  data \u003d eval_js(\u0027takePhoto({})\u0027.format(quality))\n",
        "  binary \u003d b64decode(data.split(\u0027,\u0027)[1])\n",
        "  with open(filename, \u0027wb\u0027) as f:\n",
        "    f.write(binary)\n",
        "  return filename"
      ]
    },
    {
      "cell_type": "code",
      "execution_count": 0,
      "metadata": {
        "colab": {},
        "colab_type": "code",
        "id": "dPthohhXPeDu",
        "pycharm": {}
      },
      "outputs": [],
      "source": [
        "from IPython.display import Image\n",
        "try:\n",
        "  filename \u003d take_photo()\n",
        "  print(\u0027Saved to {}\u0027.format(filename))\n",
        "  \n",
        "  # Show the image which was just taken.\n",
        "  display(Image(filename))\n",
        "except Exception as err:\n",
        "  # Errors will be thrown if the user does not have a webcam or if they do not\n",
        "  # grant the page permission to access it.\n",
        "  print(str(err))"
      ]
    },
    {
      "cell_type": "markdown",
      "metadata": {
        "colab_type": "text",
        "id": "KR921S_OQSHG",
        "pycharm": {}
      },
      "source": [
        "## Code cells\n",
        "Below is a **code cell**. Once the toolbar button indicates CONNECTED, click in the cell to select it and execute the contents in the following ways:\n",
        "\n",
        "* Click the **Play icon** in the left gutter of the cell;\n",
        "* Type **Cmd/Ctrl+Enter** to run the cell in place;\n",
        "* Type **Shift+Enter** to run the cell and move focus to the next cell (adding one if none exists); or\n",
        "* Type **Alt+Enter** to run the cell and insert a new code cell immediately below it.\n",
        "\n",
        "There are additional options for running some or all cells in the **Runtime** menu.\n"
      ]
    },
    {
      "cell_type": "code",
      "execution_count": 0,
      "metadata": {
        "cellView": "both",
        "colab": {},
        "colab_type": "code",
        "id": "WUtu4316QSHL",
        "pycharm": {}
      },
      "outputs": [],
      "source": [
        "a \u003d 10\n",
        "a"
      ]
    },
    {
      "cell_type": "markdown",
      "metadata": {
        "colab_type": "text",
        "id": "Id6tDF1HQSHD",
        "pycharm": {}
      },
      "source": [
        "## Text cells\n",
        "This is a **text cell**. You can **double-click** to edit this cell. Text cells\n",
        "use markdown syntax. To learn more, see our [markdown\n",
        "guide](/notebooks/markdown_guide.ipynb).\n",
        "\n",
        "You can also add math to text cells using [LaTeX](http://www.latex-project.org/)\n",
        "to be rendered by [MathJax](https://www.mathjax.org). Just place the statement\n",
        "within a pair of **\\$** signs. For example `$\\sqrt{3x-1}+(1+x)^2$` becomes\n",
        "$\\sqrt{3x-1}+(1+x)^2.$\n"
      ]
    },
    {
      "cell_type": "markdown",
      "metadata": {
        "colab_type": "text",
        "id": "7bqjkGKwQSHW",
        "pycharm": {}
      },
      "source": [
        "## Adding and moving cells\n",
        "You can add new cells by using the **+ CODE** and **+ TEXT** buttons that show when you hover between cells. These buttons are also in the toolbar above the notebook where they can be used to add a cell below the currently selected cell.\n",
        "\n",
        "You can move a cell by selecting it and clicking **Cell Up** or **Cell Down** in the top toolbar. \n",
        "\n",
        "Consecutive cells can be selected by \"lasso selection\" by dragging from outside one cell and through the group.  Non-adjacent cells can be selected concurrently by clicking one and then holding down Ctrl while clicking another.  Similarly, using Shift instead of Ctrl will select all intermediate cells."
      ]
    },
    {
      "cell_type": "markdown",
      "metadata": {
        "colab_type": "text",
        "id": "GOwlZRXEQSHZ",
        "pycharm": {}
      },
      "source": [
        "# Working with python\n",
        "Colaboratory is built on top of [Jupyter Notebook](https://jupyter.org/). Below are some examples of convenience functions provided."
      ]
    },
    {
      "cell_type": "markdown",
      "metadata": {
        "colab_type": "text",
        "id": "RVuqWUXPQSHa",
        "pycharm": {}
      },
      "source": [
        "Long running python processes can be interrupted. Run the following cell and select **Runtime -\u003e Interrupt execution** (*hotkey: Cmd/Ctrl-M I*) to stop execution."
      ]
    },
    {
      "cell_type": "code",
      "execution_count": 0,
      "metadata": {
        "cellView": "both",
        "colab": {},
        "colab_type": "code",
        "id": "d-S-3nYLQSHb",
        "pycharm": {}
      },
      "outputs": [],
      "source": [
        "import time\n",
        "print(\"Sleeping\")\n",
        "time.sleep(30) # sleep for a while; interrupt me!\n",
        "print(\"Done Sleeping\")"
      ]
    },
    {
      "cell_type": "markdown",
      "metadata": {
        "colab_type": "text",
        "id": "Wej_mEyXQSHc",
        "pycharm": {}
      },
      "source": [
        "## System aliases\n",
        "\n",
        "Jupyter includes shortcuts for common operations, such as ls:"
      ]
    },
    {
      "cell_type": "code",
      "execution_count": 0,
      "metadata": {
        "cellView": "both",
        "colab": {},
        "colab_type": "code",
        "id": "5OCYEvK5QSHf",
        "pycharm": {}
      },
      "outputs": [],
      "source": [
        "!ls /bin"
      ]
    },
    {
      "cell_type": "markdown",
      "metadata": {
        "colab_type": "text",
        "id": "y8Da6JWKQSHh",
        "pycharm": {}
      },
      "source": [
        "That `!ls` probably generated a large output. You can select the cell and clear the output by either: \n",
        "\n",
        "1. Clicking on the clear output button (x) in the toolbar above the cell; or\n",
        "2. Right clicking the left gutter of the output area and selecting \"Clear output\" from the context menu.\n",
        "\n",
        "Execute any other process using `!` with string interpolation from python variables, and note the result can be assigned to a variable:"
      ]
    },
    {
      "cell_type": "code",
      "execution_count": 0,
      "metadata": {
        "cellView": "both",
        "colab": {},
        "colab_type": "code",
        "id": "zqGrv0blQSHj",
        "pycharm": {}
      },
      "outputs": [],
      "source": [
        "message \u003d \u0027Colaboratory is great!\u0027\n",
        "foo \u003d !echo -e \u0027$message\\n$message\u0027\n",
        "foo"
      ]
    },
    {
      "cell_type": "markdown",
      "metadata": {
        "colab_type": "text",
        "id": "qM4myQGfQboQ",
        "pycharm": {}
      },
      "source": [
        "## Magics\n",
        "Colaboratory shares the notion of magics from Jupyter. There are shorthand annotations that change how a cell\u0027s text is executed. To learn more, see [Jupyter\u0027s magics page](http://nbviewer.jupyter.org/github/ipython/ipython/blob/1.x/examples/notebooks/Cell%20Magics.ipynb). \n"
      ]
    },
    {
      "cell_type": "code",
      "execution_count": 0,
      "metadata": {
        "cellView": "both",
        "colab": {},
        "colab_type": "code",
        "id": "odfM-_GxWbCy",
        "pycharm": {}
      },
      "outputs": [],
      "source": [
        "%%html\n",
        "\u003cmarquee style\u003d\u0027width: 30%; color: blue;\u0027\u003e\u003cb\u003eWhee!\u003c/b\u003e\u003c/marquee\u003e"
      ]
    },
    {
      "cell_type": "code",
      "execution_count": 0,
      "metadata": {
        "colab": {},
        "colab_type": "code",
        "id": "_YrTcK7k22Fp",
        "pycharm": {}
      },
      "outputs": [],
      "source": [
        "%%html\n",
        "\u003csvg xmlns\u003d\"http://www.w3.org/2000/svg\" viewBox\u003d\"0 0 450 400\" width\u003d\"200\" height\u003d\"200\"\u003e\n",
        "  \u003crect x\u003d\"80\" y\u003d\"60\" width\u003d\"250\" height\u003d\"250\" rx\u003d\"20\" style\u003d\"fill:red; stroke:black; fill-opacity:0.7\" /\u003e\n",
        "  \u003crect x\u003d\"180\" y\u003d\"110\" width\u003d\"250\" height\u003d\"250\" rx\u003d\"40\" style\u003d\"fill:blue; stroke:black; fill-opacity:0.5;\" /\u003e\n",
        "\u003c/svg\u003e"
      ]
    },
    {
      "cell_type": "markdown",
      "metadata": {
        "colab_type": "text",
        "id": "d4L9TOP9QSHn",
        "pycharm": {}
      },
      "source": [
        "## Tab-completion and exploring code\n",
        "\n",
        "Colab provides tab completion to explore attributes of Python objects, as well as to quickly view documentation strings. As an example, first run the following cell to import the  [`numpy`](http://www.numpy.org) module."
      ]
    },
    {
      "cell_type": "code",
      "execution_count": 0,
      "metadata": {
        "cellView": "both",
        "colab": {},
        "colab_type": "code",
        "id": "Q0JKWcmtQSHp",
        "pycharm": {}
      },
      "outputs": [],
      "source": [
        "import numpy as np"
      ]
    },
    {
      "cell_type": "markdown",
      "metadata": {
        "colab_type": "text",
        "id": "1M890-bXeyYp",
        "pycharm": {}
      },
      "source": [
        "If you now insert your cursor after ``np.random.`` and press **Tab**, you will see the list of available completions within the ``np.random`` submodule."
      ]
    },
    {
      "cell_type": "code",
      "execution_count": 0,
      "metadata": {
        "cellView": "both",
        "colab": {},
        "colab_type": "code",
        "id": "j6QRIfUHQSHq",
        "pycharm": {}
      },
      "outputs": [],
      "source": [
        "np.random."
      ]
    },
    {
      "cell_type": "markdown",
      "metadata": {
        "colab_type": "text",
        "id": "g6MfomFhQSHs",
        "pycharm": {}
      },
      "source": [
        "If you type an open parenthesis followed by the **Tab** key after any function or class in the module, you will see a pop-up of its documentation string:"
      ]
    },
    {
      "cell_type": "code",
      "execution_count": 0,
      "metadata": {
        "cellView": "both",
        "colab": {},
        "colab_type": "code",
        "id": "SD0XnrVhQSHt",
        "pycharm": {}
      },
      "outputs": [],
      "source": [
        "np.random.rand("
      ]
    },
    {
      "cell_type": "markdown",
      "metadata": {
        "colab_type": "text",
        "id": "9ReRLQaxJ-zP",
        "pycharm": {}
      },
      "source": [
        "To open the documentation in a persistent pane at the bottom of your screen, add a **?** after the object or method name and execute the cell using **Shift+Enter**:"
      ]
    },
    {
      "cell_type": "code",
      "execution_count": 0,
      "metadata": {
        "cellView": "both",
        "colab": {},
        "colab_type": "code",
        "id": "YgQ6Tu7DK17l",
        "pycharm": {}
      },
      "outputs": [],
      "source": [
        "np.random?"
      ]
    },
    {
      "cell_type": "markdown",
      "metadata": {
        "colab_type": "text",
        "id": "TYTBdJXxfqiJ",
        "pycharm": {}
      },
      "source": [
        "## Exception Formatting"
      ]
    },
    {
      "cell_type": "markdown",
      "metadata": {
        "colab_type": "text",
        "id": "4bqAVK-aQSHx",
        "pycharm": {}
      },
      "source": [
        "Exceptions are formatted nicely in Colab outputs:"
      ]
    },
    {
      "cell_type": "code",
      "execution_count": 0,
      "metadata": {
        "cellView": "both",
        "colab": {},
        "colab_type": "code",
        "id": "CrJf1PEmQSHx",
        "pycharm": {}
      },
      "outputs": [],
      "source": [
        "x \u003d 1\n",
        "y \u003d 4\n",
        "z \u003d y/(1-x)"
      ]
    },
    {
      "cell_type": "markdown",
      "metadata": {
        "colab_type": "text",
        "id": "7cRnhv_7N4Pa",
        "pycharm": {}
      },
      "source": [
        "## Rich, interactive outputs\n",
        "Until now all of the generated outputs have been text, but they can be more interesting, like the chart below. "
      ]
    },
    {
      "cell_type": "code",
      "execution_count": 0,
      "metadata": {
        "colab": {},
        "colab_type": "code",
        "id": "JVXnTqyE9RET",
        "pycharm": {}
      },
      "outputs": [],
      "source": [
        "import numpy as np\n",
        "from matplotlib import pyplot as plt\n",
        "\n",
        "ys \u003d 200 + np.random.randn(100)\n",
        "x \u003d [x for x in range(len(ys))]\n",
        "\n",
        "plt.plot(x, ys, \u0027-\u0027)\n",
        "plt.fill_between(x, ys, 195, where\u003d(ys \u003e 195), facecolor\u003d\u0027g\u0027, alpha\u003d0.6)\n",
        "\n",
        "plt.title(\"Fills and Alpha Example\")\n",
        "plt.show()"
      ]
    },
    {
      "cell_type": "markdown",
      "metadata": {
        "colab_type": "text",
        "id": "aro-UJgUQSH1",
        "pycharm": {}
      },
      "source": [
        "# Integration with Drive\n",
        "\n",
        "Colaboratory is integrated with Google Drive. It allows you to share, comment, and collaborate on the same document with multiple people:\n",
        "\n",
        "* The **SHARE** button (top-right of the toolbar) allows you to share the notebook and control permissions set on it.\n",
        "\n",
        "* **File-\u003eMake a Copy** creates a copy of the notebook in Drive.\n",
        "\n",
        "* **File-\u003eSave** saves the File to Drive. **File-\u003eSave and checkpoint** pins the version so it doesn\u0027t get deleted from the revision history. \n",
        "\n",
        "* **File-\u003eRevision history** shows the notebook\u0027s revision history. \n",
        "\n",
        "* Multiple people can **collaboratively edit** the same notebook at the same time. Like Google Docs, you can see collaborators both within the document (top right, left of the comments button) and within a cell (right of the cell). "
      ]
    },
    {
      "cell_type": "markdown",
      "metadata": {
        "colab_type": "text",
        "id": "4hfV37gxpP_c",
        "pycharm": {}
      },
      "source": [
        "## Commenting on a cell\n",
        "You can comment on a Colaboratory notebook like you would on a Google Document. Comments are attached to cells, and are displayed next to the cell they refer to. If you have **comment-only** permissions, you will see a comment button on the top right of the cell when you hover over it.\n",
        "\n",
        "If you have edit or comment permissions you can comment on a cell in one of three ways: \n",
        "\n",
        "1. Select a cell and click the comment button in the toolbar above the top-right corner of the cell.\n",
        "1. Right click a text cell and select **Add a comment** from the context menu.\n",
        "3. Use the shortcut **Ctrl+Shift+M** to add a comment to the currently selected cell. \n",
        "\n",
        "You can resolve and reply to comments, and you can target comments to specific collaborators by typing *+[email address]* (e.g., `+user@domain.com`). Addressed collaborators will be emailed. \n",
        "\n",
        "The Comment button in the top-right corner of the page shows all comments attached to the notebook."
      ]
    },
    {
      "cell_type": "markdown",
      "metadata": {
        "pycharm": {
          "metadata": false
        }
      },
      "source": [
        "## Test Display\n"
      ]
    },
    {
      "cell_type": "code",
      "execution_count": 1,
      "metadata": {
        "pycharm": {
          "is_executing": false,
          "metadata": false,
          "name": "#%%\n"
        }
      },
      "outputs": [
        {
          "data": {
            "text/plain": "\u003cFigure size 432x288 with 1 Axes\u003e",
            "image/png": "iVBORw0KGgoAAAANSUhEUgAAAXgAAAD8CAYAAAB9y7/cAAAABHNCSVQICAgIfAhkiAAAAAlwSFlzAAALEgAACxIB0t1+/AAAADl0RVh0U29mdHdhcmUAbWF0cGxvdGxpYiB2ZXJzaW9uIDMuMC4zLCBodHRwOi8vbWF0cGxvdGxpYi5vcmcvnQurowAAExdJREFUeJzt3X+MpdV93/H3pywGx3azYAa03V2yONk0JlVZ8JSsRVUR7CRAoy6R4gpaxShCGqRiyZat1pBKDZaKlEiNaa22iHUgxpJjm/pHWSEUZ4OxovxhYHDWC3hNWNtbM9ktO64BO7VKC/72jzlj3yx3Z+7OzN2Ze/x+SVf3ec4995nvYYfPnD33OTupKiRJ/fk7612AJGk8DHhJ6pQBL0mdMuAlqVMGvCR1yoCXpE6NLeCTXJ3kmSSHk9w6rq8jSRou47gPPskZwF8BvwLMAY8DN1TV19b8i0mShhrXDP5y4HBVfbOq/i/wKWDPmL6WJGmITWO67lbguYHzOeCXTtb5vPPOqx07doypFEmaPEeOHOE73/lOVnONcQX8sKL+1lpQkhlgBuDCCy9kdnZ2TKVI0uSZnp5e9TXGtUQzB2wfON8GHB3sUFV7q2q6qqanpqbGVIYk/eQaV8A/DuxMclGS1wHXA/vG9LUkSUOMZYmmql5J8h7gC8AZwL1V9fQ4vpYkabhxrcFTVQ8BD43r+pKkpbmTVZI6ZcBLUqcMeEnqlAEvSZ0y4CWpUwa8JHXKgJekThnwktQpA16SOmXAS1KnDHhJ6pQBL0mdMuAlqVMGvCR1yoCXpE4Z8JLUKQNekjplwEtSp1b1K/uSHAG+D7wKvFJV00nOBT4N7ACOAP+8ql5YXZmSpFO1FjP4X66qXVU13c5vBR6uqp3Aw+1cknSajWOJZg9wXzu+D7huDF9DkrSM1QZ8AX+a5IkkM63tgqo6BtCez1/l15AkrcCq1uCBK6rqaJLzgf1Jvj7qG9sPhBmACy+8cJVlSJJOtKoZfFUdbc/Hgc8DlwPPJ9kC0J6Pn+S9e6tquqqmp6amVlOGJGmIFQd8kjckedPiMfCrwFPAPuDG1u1G4IHVFilJOnWrWaK5APh8ksXr/HFV/UmSx4H7k9wEfBt41+rLlCSdqhUHfFV9E7hkSPv/At6xmqIkSavnTlZJ6pQBL0mdMuAlqVMGvCR1yoCXpE4Z8JLUKQNekjplwEtSpwx4SeqUAS9JnTLgJalTBrwkdcqAl6ROGfCS1CkDXpI6ZcBLUqcMeEnqlAEvSZ0y4CWpU8sGfJJ7kxxP8tRA27lJ9id5tj2f09qT5CNJDic5mOSycRYvSTq5UWbwHwOuPqHtVuDhqtoJPNzOAa4BdrbHDHDX2pQpSTpVywZ8Vf058N0TmvcA97Xj+4DrBto/Xgu+DGxOsmWtipUkjW6la/AXVNUxgPZ8fmvfCjw30G+utb1Gkpkks0lm5+fnV1iGJOlk1vpD1gxpq2Edq2pvVU1X1fTU1NQalyFJWmnAP7+49NKej7f2OWD7QL9twNGVlydJWqmVBvw+4MZ2fCPwwED7u9vdNLuBlxaXciRJp9em5Tok+SRwJXBekjngd4HfA+5PchPwbeBdrftDwLXAYeAHwG+PoWZJ0giWDfiquuEkL71jSN8CblltUZKk1XMnqyR1yoCXpE4Z8JLUKQNekjplwEtSpwx4SeqUAS9JnTLgJalTBrwkdcqAl6ROGfCS1CkDXpI6ZcBLUqcMeEnqlAEvSZ0y4CWpUwa8JHXKgJekTi0b8EnuTXI8yVMDbbcn+eskB9rj2oHXbktyOMkzSX5tXIVLkpY2ygz+Y8DVQ9rvrKpd7fEQQJKLgeuBX2zv+a9JzlirYiVJo1s24Kvqz4Hvjni9PcCnqurlqvoWcBi4fBX1SZJWaDVr8O9JcrAt4ZzT2rYCzw30mWttr5FkJslsktn5+flVlCFJGmalAX8X8LPALuAY8AetPUP61rALVNXeqpququmpqakVliFJOpkVBXxVPV9Vr1bVD4GP8uNlmDlg+0DXbcDR1ZUoSVqJFQV8ki0Dp78BLN5hsw+4PslZSS4CdgKPra5ESdJKbFquQ5JPAlcC5yWZA34XuDLJLhaWX44ANwNU1dNJ7ge+BrwC3FJVr46ndEnSUpYN+Kq6YUjzPUv0vwO4YzVFSZJWz52sktQpA16SOmXAS1KnDHhJ6pQBL0mdMuAlqVMGvCR1yoCXpE4Z8JLUKQNekjplwEtSpwx4SeqUAS9JnTLgJalTBrwkdcqAl6ROGfCS1CkDXpI6tWzAJ9me5JEkh5I8neS9rf3cJPuTPNuez2ntSfKRJIeTHExy2bgHIUl6rVFm8K8AH6iqtwK7gVuSXAzcCjxcVTuBh9s5wDXAzvaYAe5a86olSctaNuCr6lhVfaUdfx84BGwF9gD3tW73Ade14z3Ax2vBl4HNSbaseeWSpCWd0hp8kh3ApcCjwAVVdQwWfggA57duW4HnBt4219pOvNZMktkks/Pz86deuSRpSSMHfJI3Ap8F3ldV31uq65C2ek1D1d6qmq6q6ampqVHLkCSNaKSAT3ImC+H+iar6XGt+fnHppT0fb+1zwPaBt28Djq5NuZKkUY1yF02Ae4BDVfXhgZf2ATe24xuBBwba393uptkNvLS4lCNJOn02jdDnCuC3gCeTHGhtvwP8HnB/kpuAbwPvaq89BFwLHAZ+APz2mlYsSRrJsgFfVX/B8HV1gHcM6V/ALausS5K0Su5klaROGfCS1CkDXpI6ZcBLUqcMeEnqlAEvSZ0y4CWpUwa8JHXKgJekThnwktQpA16SOmXAS1KnDHhJ6pQBL0mdMuAlqVMGvCR1yoCXpE4Z8JLUqVF+6fb2JI8kOZTk6STvbe23J/nrJAfa49qB99yW5HCSZ5L82jgHIEkabpRfuv0K8IGq+kqSNwFPJNnfXruzqv7DYOckFwPXA78I/D3gz5L8fFW9upaFS5KWtuwMvqqOVdVX2vH3gUPA1iXesgf4VFW9XFXfAg4Dl69FsZKk0Z3SGnySHcClwKOt6T1JDia5N8k5rW0r8NzA2+ZY+geCJGkMRg74JG8EPgu8r6q+B9wF/CywCzgG/MFi1yFvryHXm0kym2R2fn7+lAuXJC1tpIBPciYL4f6JqvocQFU9X1WvVtUPgY/y42WYOWD7wNu3AUdPvGZV7a2q6aqanpqaWs0YJElDjHIXTYB7gENV9eGB9i0D3X4DeKod7wOuT3JWkouAncBja1eyJGkUo9xFcwXwW8CTSQ60tt8Bbkiyi4XllyPAzQBV9XSS+4GvsXAHzi3eQSNJp9+yAV9Vf8HwdfWHlnjPHcAdq6hLkrRK7mSVpE4Z8JLUKQNekjplwEtSpwx4SeqUAS9JnTLgJalTBrwkdcqAl6ROGfCS1CkDXpI6ZcBLUqcMeEnq1Cj/XLAkdWXh11ycHlWv+YV2p40zeEkawezdM8zePbPeZZwSZ/CStIzbb5/lwWOLZ3vXs5RT4gxekk5i9u4Zbr999m+1nXi+kRnwknSKJmWpZpRfun12kseSfDXJ00k+1NovSvJokmeTfDrJ61r7We38cHt9x3iHIEnjMX3z5CzHDDPKDP5l4KqqugTYBVydZDfw+8CdVbUTeAG4qfW/CXihqn4OuLP1k6SJ9Otb9g49n4QPXUf5pdsF/E07PbM9CrgK+Bet/T7gduAuYE87BvgM8J+TpNbzXiFJWqGFWfzeDR/mw4y0Bp/kjCQHgOPAfuAbwItV9UrrMgdsbcdbgecA2usvAW9ey6IlaaPYyME/UsBX1atVtQvYBlwOvHVYt/Y8bAfBa2bvSWaSzCaZnZ+fH7VeSVoXS63Hb9SQP6W7aKrqReBLwG5gc5LFJZ5twNF2PAdsB2iv/zTw3SHX2ltV01U1PTU1tbLqJek0mrQPXUe5i2YqyeZ2/HrgncAh4BHgN1u3G4EH2vG+dk57/Yuuv0vq3UacxY8yg98CPJLkIPA4sL+qHgQ+CLw/yWEW1tjvaf3vAd7c2t8P3Lr2ZUvS+pikpZpR7qI5CFw6pP2bLKzHn9j+f4B3rUl1krQBTd88GXfVuJNVktbQRro/3oCXpBWYhA9cDXhJWqGNvh7vPxcs6SfOWt/Y98Tem4e2r3fIO4OXpFV628zd613CUAa8JI3RyWb3p4MBL0lrYKlZ/HqFvAEvSZ0y4CVpjWy0WbwBL0lraCOFvAEvSWtso4S8AS9JY7ARQt6Al6QxWe/74w14SVoHp2MWb8BL0hit51KNAS9JY7ZeSzUGvCStoyf23jy2mbwBL0mnwdtm7j7tM/lRfun22UkeS/LVJE8n+VBr/1iSbyU50B67WnuSfCTJ4SQHk1w27kFI0qQbxyx+lBn8y8BVVXUJsAu4Osnu9tq/rqpd7XGgtV0D7GyPGeCutS5akibV6ZzFLxvwteBv2umZ7bHUv5a/B/h4e9+Xgc1Jtqy+VEnq21rP4kdag09yRpIDwHFgf1U92l66oy3D3JnkrNa2FXhu4O1zrU2SxOm7dXKkgK+qV6tqF7ANuDzJPwBuA34B+EfAucAHW/cMu8SJDUlmkswmmZ2fn19R8ZI0qU5HyJ/SXTRV9SLwJeDqqjrWlmFeBv4IuLx1mwO2D7xtG3B0yLX2VtV0VU1PTU2tqHhJmmTjXo8f5S6aqSSb2/HrgXcCX19cV08S4DrgqfaWfcC72900u4GXqurYWKqXpE79YP5/rPoao8zgtwCPJDkIPM7CGvyDwCeSPAk8CZwH/PvW/yHgm8Bh4KPAv1p1lZLUqXHO4jct16GqDgKXDmm/6iT9C7hl9aVJ0k+Gt83cvW73wUuSxmwcM3kDXpI6ZcBL0gax1rN4A16SNpC1DHkDXpI6ZcBL0gazVrN4A16SNqCfmvqZVV/DgJekThnwktQpA16SOmXAS1KnDHhJ6pQBL0mdMuAlqVMGvCR1yoCXpE4Z8JLUKQNekjplwEtSp0YO+CRnJPnLJA+284uSPJrk2SSfTvK61n5WOz/cXt8xntIlSUs5lRn8e4FDA+e/D9xZVTuBF4CbWvtNwAtV9XPAna2fJOk0Gyngk2wD/inwh+08wFXAZ1qX+4Dr2vGedk57/R2tvyTpNNo0Yr//CPwb4E3t/M3Ai1X1SjufA7a2463AcwBV9UqSl1r/7wxeMMkMMNNOX07y1IpGsPGdxwlj70Sv44J+x+a4JsvPJJmpqr0rvcCyAZ/k14HjVfVEkisXm4d0rRFe+3HDQtF729eYrarpkSqeML2OrddxQb9jc1yTJ8ksLSdXYpQZ/BXAP0tyLXA28HdZmNFvTrKpzeK3AUdb/zlgOzCXZBPw08B3V1qgJGllll2Dr6rbqmpbVe0Arge+WFX/EngE+M3W7UbggXa8r53TXv9iVb1mBi9JGq/V3Af/QeD9SQ6zsMZ+T2u/B3hza38/cOsI11rxX0EmQK9j63Vc0O/YHNfkWdXY4uRakvrkTlZJ6tS6B3ySq5M803a+jrKcs6EkuTfJ8cHbPJOcm2R/2+W7P8k5rT1JPtLGejDJZetX+dKSbE/ySJJDSZ5O8t7WPtFjS3J2kseSfLWN60OtvYud2b3uOE9yJMmTSQ60O0sm/nsRIMnmJJ9J8vX2/9rb13Jc6xrwSc4A/gtwDXAxcEOSi9ezphX4GHD1CW23Ag+3Xb4P8+PPIa4BdrbHDHDXaapxJV4BPlBVbwV2A7e0P5tJH9vLwFVVdQmwC7g6yW762Znd847zX66qXQO3RE769yLAfwL+pKp+AbiEhT+7tRtXVa3bA3g78IWB89uA29azphWOYwfw1MD5M8CWdrwFeKYd3w3cMKzfRn+wcJfUr/Q0NuCngK8Av8TCRplNrf1H35fAF4C3t+NNrV/Wu/aTjGdbC4SrgAdZ2JMy8eNqNR4BzjuhbaK/F1m45fxbJ/53X8txrfcSzY92vTaDO2In2QVVdQygPZ/f2idyvO2v75cCj9LB2NoyxgHgOLAf+AYj7swGFndmb0SLO85/2M5H3nHOxh4XLGyW/NMkT7Rd8DD534tvAeaBP2rLan+Y5A2s4bjWO+BH2vXakYkbb5I3Ap8F3ldV31uq65C2DTm2qnq1qnaxMOO9HHjrsG7teSLGlYEd54PNQ7pO1LgGXFFVl7GwTHFLkn+yRN9JGdsm4DLgrqq6FPjfLH1b+SmPa70DfnHX66LBHbGT7PkkWwDa8/HWPlHjTXImC+H+iar6XGvuYmwAVfUi8CUWPmPY3HZew/Cd2WzwndmLO86PAJ9iYZnmRzvOW59JHBcAVXW0PR8HPs/CD+ZJ/16cA+aq6tF2/hkWAn/NxrXeAf84sLN90v86FnbK7lvnmtbC4G7eE3f5vrt9Gr4beGnxr2IbTZKwsGntUFV9eOCliR5bkqkkm9vx64F3svDB1kTvzK6Od5wneUOSNy0eA78KPMWEfy9W1f8Enkvy91vTO4CvsZbj2gAfNFwL/BUL66D/dr3rWUH9nwSOAf+PhZ+wN7Gwlvkw8Gx7Prf1DQt3DX0DeBKYXu/6lxjXP2bhr38HgQPtce2kjw34h8BftnE9Bfy71v4W4DHgMPDfgLNa+9nt/HB7/S3rPYYRxngl8GAv42pj+Gp7PL2YE5P+vdhq3QXMtu/H/w6cs5bjcierJHVqvZdoJEljYsBLUqcMeEnqlAEvSZ0y4CWpUwa8JHXKgJekThnwktSp/w8GZuHRYrVh5AAAAABJRU5ErkJggg\u003d\u003d\n"
          },
          "metadata": {
            "needs_background": "light"
          },
          "output_type": "display_data"
        }
      ],
      "source": "import gym\n\nenv \u003d gym.make(\u0027CartPole-v0\u0027)\n\nfrom IPython import display\nimport matplotlib.pyplot as plt\n%matplotlib inline\n\nenv.reset()\n#env.render(mode\u003d\u0027rgb_array\u0027)\nimg \u003d plt.imshow(env.render(mode\u003d\u0027rgb_array\u0027)) # only call this once\n\nfor _ in range(100):\n    img.set_data(env.render(mode\u003d\u0027rgb_array\u0027)) # just update the data\n    display.display(plt.gcf())\n    display.clear_output(wait\u003dTrue)\n    action \u003d env.action_space.sample()\n    env.step(action)\n\n"
    }
  ],
  "metadata": {
    "colab": {
      "collapsed_sections": [],
      "name": "DEED",
      "provenance": [],
      "toc_visible": true,
      "version": "0.3.2"
    },
    "kernelspec": {
      "display_name": "Python 3",
      "language": "python",
      "name": "python3"
    },
    "language_info": {
      "codemirror_mode": {
        "name": "ipython",
        "version": 3
      },
      "file_extension": ".py",
      "mimetype": "text/x-python",
      "name": "python",
      "nbconvert_exporter": "python",
      "pygments_lexer": "ipython3",
      "version": "3.7.2"
    }
  },
  "nbformat": 4,
  "nbformat_minor": 1
}